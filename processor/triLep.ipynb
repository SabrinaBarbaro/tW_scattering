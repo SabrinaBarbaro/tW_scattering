{
 "cells": [
  {
   "cell_type": "markdown",
   "metadata": {},
   "source": [
    "# Example Notebook for trilepton events"
   ]
  },
  {
   "cell_type": "code",
   "execution_count": 10,
   "metadata": {},
   "outputs": [],
   "source": [
    "import os\n",
    "import time\n",
    "import glob\n",
    "import re\n",
    "import pandas as pd\n",
    "from functools import reduce\n",
    "from klepto.archives import dir_archive\n",
    "\n",
    "import numpy as np\n",
    "from tqdm.auto import tqdm\n",
    "import coffea.processor as processor\n",
    "from coffea.processor.accumulator import AccumulatorABC\n",
    "from coffea.analysis_objects import JaggedCandidateArray\n",
    "from coffea import hist\n",
    "import pandas as pd\n",
    "import uproot_methods\n",
    "import awkward\n",
    "\n",
    "from memory_profiler import profile\n",
    "\n",
    "%matplotlib inline\n",
    "import matplotlib\n",
    "import matplotlib.pyplot as plt\n",
    "from matplotlib.colors import LogNorm\n",
    "\n",
    "from Tools.helpers import addRowToCutFlow, loadConfig, getCutFlowTable\n",
    "\n",
    "# This just tells matplotlib not to open any\n",
    "# interactive windows.\n",
    "matplotlib.use('Agg')"
   ]
  },
  {
   "cell_type": "code",
   "execution_count": 16,
   "metadata": {},
   "outputs": [],
   "source": [
    "class exampleProcessor(processor.ProcessorABC):\n",
    "    \"\"\"Dummy processor used to demonstrate the processor principle\"\"\"\n",
    "    def __init__(self):\n",
    "\n",
    "        # we can use a large number of bins and rebin later\n",
    "        dataset_axis        = hist.Cat(\"dataset\",   \"Primary dataset\")\n",
    "        pt_axis             = hist.Bin(\"pt\",        r\"$p_{T}$ (GeV)\", 1000, 0, 1000)\n",
    "        ht_axis             = hist.Bin(\"ht\",        r\"$H_{T}$ (GeV)\", 500, 0, 5000)\n",
    "        mass_axis           = hist.Bin(\"mass\",      r\"M (GeV)\", 1000, 0, 2000)\n",
    "        eta_axis            = hist.Bin(\"eta\",       r\"$\\eta$\", 60, -5.5, 5.5)\n",
    "        multiplicity_axis   = hist.Bin(\"multiplicity\",         r\"N\", 20, -0.5, 19.5)\n",
    "        norm_axis            = hist.Bin(\"norm\",         r\"N\", 25, 0, 1)\n",
    "\n",
    "        self._accumulator = processor.dict_accumulator({\n",
    "            \"MET_pt\" :          hist.Hist(\"Counts\", dataset_axis, pt_axis),\n",
    "            \"pt_spec_max\" :          hist.Hist(\"Counts\", dataset_axis, pt_axis),\n",
    "            \"eta_spec_max\" :          hist.Hist(\"Counts\", dataset_axis, eta_axis),\n",
    "            \"MT\" :          hist.Hist(\"Counts\", dataset_axis, pt_axis),\n",
    "            \"HT\" :          hist.Hist(\"Counts\", dataset_axis, ht_axis),\n",
    "            \"ST\" :          hist.Hist(\"Counts\", dataset_axis, ht_axis),\n",
    "            \"mbj_max\" :          hist.Hist(\"Counts\", dataset_axis, mass_axis),\n",
    "            \"mjj_max\" :          hist.Hist(\"Counts\", dataset_axis, mass_axis),\n",
    "            \"mlb_max\" :          hist.Hist(\"Counts\", dataset_axis, mass_axis),\n",
    "            \"mlb_min\" :          hist.Hist(\"Counts\", dataset_axis, mass_axis),\n",
    "            \"mlj_max\" :          hist.Hist(\"Counts\", dataset_axis, mass_axis),\n",
    "            \"mlj_min\" :          hist.Hist(\"Counts\", dataset_axis, mass_axis),\n",
    "            \"N_b\" :             hist.Hist(\"Counts\", dataset_axis, multiplicity_axis),\n",
    "            \"N_ele\" :             hist.Hist(\"Counts\", dataset_axis, multiplicity_axis),\n",
    "            \"N_diele\" :             hist.Hist(\"Counts\", dataset_axis, multiplicity_axis),\n",
    "            \"N_mu\" :             hist.Hist(\"Counts\", dataset_axis, multiplicity_axis),\n",
    "            \"N_dimu\" :             hist.Hist(\"Counts\", dataset_axis, multiplicity_axis),\n",
    "            \"N_jet\" :           hist.Hist(\"Counts\", dataset_axis, multiplicity_axis),\n",
    "            \"N_spec\" :           hist.Hist(\"Counts\", dataset_axis, multiplicity_axis),\n",
    "            \"FWMT1\" :           hist.Hist(\"Counts\", dataset_axis, norm_axis),\n",
    "            \"FWMT2\" :           hist.Hist(\"Counts\", dataset_axis, norm_axis),\n",
    "            \"FWMT3\" :           hist.Hist(\"Counts\", dataset_axis, norm_axis),\n",
    "            \"FWMT4\" :           hist.Hist(\"Counts\", dataset_axis, norm_axis),\n",
    "            \"FWMT5\" :           hist.Hist(\"Counts\", dataset_axis, norm_axis),\n",
    "            \"S\" :               hist.Hist(\"Counts\", dataset_axis, norm_axis),\n",
    "            \"S_lep\" :           hist.Hist(\"Counts\", dataset_axis, norm_axis),\n",
    "            'diboson':          processor.defaultdict_accumulator(int),\n",
    "            'ttbar':            processor.defaultdict_accumulator(int),\n",
    "            'TTW':              processor.defaultdict_accumulator(int),\n",
    "            'TTX':              processor.defaultdict_accumulator(int),\n",
    "            'tW_scattering':    processor.defaultdict_accumulator(int),\n",
    "            'DY':               processor.defaultdict_accumulator(int),\n",
    "            'totalEvents':      processor.defaultdict_accumulator(int),\n",
    "        })\n",
    "\n",
    "    @property\n",
    "    def accumulator(self):\n",
    "        return self._accumulator\n",
    "\n",
    "    def process(self, df):\n",
    "        \"\"\"\n",
    "        Processing function. This is where the actual analysis happens.\n",
    "        \"\"\"\n",
    "        output = self.accumulator.identity()\n",
    "        dataset = df[\"dataset\"]\n",
    "        cfg = loadConfig()\n",
    "\n",
    "        # load all the default candidates (jets, leptons, ...)\n",
    "\n",
    "        print (df['genEventSumw_'])\n",
    "        \n",
    "        ## Jets\n",
    "        jet = JaggedCandidateArray.candidatesfromcounts(\n",
    "            df['nJet'],\n",
    "            pt = df['Jet_pt'].content,\n",
    "            eta = df['Jet_eta'].content,\n",
    "            phi = df['Jet_phi'].content,\n",
    "            mass = df['Jet_mass'].content,\n",
    "            goodjet = df['Jet_isGoodJetAll'].content,\n",
    "            bjet = df['Jet_isGoodBJet'].content,\n",
    "            jetId = df['Jet_jetId'].content,\n",
    "            puId = df['Jet_puId'].content,\n",
    "        )\n",
    "        jet       = jet[(jet['goodjet']==1)]\n",
    "        btag      = jet[jet['bjet']==1]\n",
    "        light     = jet[(jet['goodjet']==1) & (jet['bjet']==0)]\n",
    "        spectator = jet[(abs(jet.eta)>2.0) & (abs(jet.eta)<4.7) & (jet.pt>25) & (jet['puId']>=7) & (jet['jetId']>=6)] # 40 GeV seemed good. let's try going lower\n",
    "        leading_spectator = spectator[spectator.pt.argmax()]\n",
    "        \n",
    "        ## Leptons\n",
    "        lepton = JaggedCandidateArray.candidatesfromcounts(\n",
    "            df['nLepton'],\n",
    "            pt = df['Lepton_pt'].content,\n",
    "            eta = df['Lepton_eta'].content,\n",
    "            phi = df['Lepton_phi'].content,\n",
    "            mass = df['Lepton_mass'].content,\n",
    "            pdgId = df['Lepton_pdgId'].content,\n",
    "        )\n",
    "\n",
    "        ## Muons\n",
    "        muon = lepton[abs(lepton['pdgId'])==13]\n",
    "        dimuon = muon.choose(2)\n",
    "        OSmuon = (dimuon.i0['pdgId'] * dimuon.i1['pdgId'] < 0)\n",
    "        dimuon = dimuon[OSmuon]\n",
    "\n",
    "        ## Electrons\n",
    "        electron = lepton[abs(lepton['pdgId'])==11]\n",
    "        dielectron = electron.choose(2)\n",
    "        OSelectron = (dielectron.i0['pdgId'] * dielectron.i1['pdgId'] < 0)\n",
    "        dielectron = dielectron[OSelectron]\n",
    "\n",
    "        ## MET\n",
    "        met_pt  = df[\"MET_pt\"]\n",
    "        met_phi = df[\"MET_phi\"]\n",
    "\n",
    "        ## Event classifieres\n",
    "        \n",
    "        \n",
    "        ## define selections (maybe move to a different file at some point)\n",
    "        trilep      = ((df['nLepton']==3) & (df['nVetoLepton']>=3))\n",
    "        twoJet      = (jet.counts>=2) # those are any two jets\n",
    "        oneBTag     = (btag.counts>0)\n",
    "        twoMuon     = ( muon.counts==2 )\n",
    "        #Zveto_mu    = ( (dimuon.counts<1) )# | (abs(dimuon.mass - 91)>15) )\n",
    "        Zveto_mu_wide    = ( (abs(dimuon.mass-91.)<15).counts<1 )\n",
    "        Zveto_ele_wide   = ( (abs(dielectron.mass-91.)<15).counts<1 )\n",
    "        Zveto_mu_narrow    = ( (abs(dimuon.mass-91.)<10).counts<1 )\n",
    "        Zveto_ele_narrow   = ( (abs(dielectron.mass-91.)<10).counts<1 )\n",
    "        met         = (met_pt > 50)\n",
    "        fwdJet = (spectator.counts>0)\n",
    "        fwdJet50 = ((leading_spectator.pt>50).counts>0)\n",
    "\n",
    "\n",
    "        ## work on the cutflow\n",
    "        output['totalEvents']['all'] += len(df['weight'])\n",
    "\n",
    "        addRowToCutFlow( output, df, cfg, 'skim',        None, processes=['TTW', 'TTX', 'diboson', 'ttbar', 'tW_scattering', 'DY'] ) # entry point\n",
    "        addRowToCutFlow( output, df, cfg, 'trilep',      trilep, processes=['TTW', 'TTX', 'diboson', 'ttbar', 'tW_scattering', 'DY'] )\n",
    "        addRowToCutFlow( output, df, cfg, 'twoJet',      trilep & twoJet, processes=['TTW', 'TTX', 'diboson', 'ttbar', 'tW_scattering', 'DY'] )\n",
    "        addRowToCutFlow( output, df, cfg, 'oneBTag',     trilep & twoJet & oneBTag, processes=['TTW', 'TTX', 'diboson', 'ttbar', 'tW_scattering', 'DY'] )\n",
    "        addRowToCutFlow( output, df, cfg, 'met50',       trilep & twoJet & oneBTag & met, processes=['TTW', 'TTX', 'diboson', 'ttbar', 'tW_scattering', 'DY'] )\n",
    "        addRowToCutFlow( output, df, cfg, 'fwd jet',     trilep & twoJet & oneBTag & met & fwdJet, processes=['TTW', 'TTX', 'diboson', 'ttbar', 'tW_scattering', 'DY'] )\n",
    "        addRowToCutFlow( output, df, cfg, 'fwd jet 50',     trilep & twoJet & oneBTag & met & fwdJet & fwdJet50, processes=['TTW', 'TTX', 'diboson', 'ttbar', 'tW_scattering', 'DY'] )\n",
    "        addRowToCutFlow( output, df, cfg, 'Zveto_wide',       trilep & twoJet & oneBTag & met & Zveto_mu_wide & Zveto_ele_wide, processes=['TTW', 'TTX', 'diboson', 'ttbar', 'tW_scattering', 'DY'] )\n",
    "        addRowToCutFlow( output, df, cfg, 'Zveto_narrow',       trilep & twoJet & oneBTag & met & Zveto_mu_narrow & Zveto_ele_narrow, processes=['TTW', 'TTX', 'diboson', 'ttbar', 'tW_scattering', 'DY'] )\n",
    "\n",
    "\n",
    "        # preselection of events\n",
    "        event_selection = trilep & twoJet & oneBTag & met\n",
    "        \n",
    "        ## And fill the histograms\n",
    "        # just the number of electrons and muons\n",
    "        output['N_ele'].fill(dataset=dataset, multiplicity=electron[event_selection].counts, weight=df['weight'][event_selection]*cfg['lumi'])\n",
    "        output['N_mu'].fill(dataset=dataset, multiplicity=muon[event_selection].counts, weight=df['weight'][event_selection]*cfg['lumi'])\n",
    "        # N jet and N b without selections on those\n",
    "        output['N_jet'].fill(dataset=dataset, multiplicity=jet[trilep & met].counts, weight=df['weight'][trilep & met]*cfg['lumi'])\n",
    "        output['N_b'].fill(dataset=dataset, multiplicity=btag[trilep & met].counts, weight=df['weight'][trilep & met]*cfg['lumi'])\n",
    "        # forward jet properties\n",
    "        output['N_spec'].fill(dataset=dataset, multiplicity=spectator[event_selection].counts, weight=df['weight'][event_selection]*cfg['lumi'])\n",
    "        output['pt_spec_max'].fill(dataset=dataset, pt=leading_spectator[event_selection & (spectator.counts>0)].pt.flatten(), weight=df['weight'][event_selection & (spectator.counts>0)]*cfg['lumi'])\n",
    "        output['eta_spec_max'].fill(dataset=dataset, eta=leading_spectator[event_selection & (spectator.counts>0)].eta.flatten(), weight=df['weight'][event_selection & (spectator.counts>0)]*cfg['lumi'])\n",
    "        \n",
    "        # something a bit more tricky\n",
    "        output['N_diele'].fill(dataset=dataset, multiplicity=dielectron[event_selection].counts, weight=df['weight'][event_selection]*cfg['lumi'])\n",
    "        output['N_dimu'].fill(dataset=dataset, multiplicity=dimuon[event_selection].counts, weight=df['weight'][event_selection]*cfg['lumi'])\n",
    "\n",
    "        return output\n",
    "\n",
    "    def postprocess(self, accumulator):\n",
    "        return accumulator\n"
   ]
  },
  {
   "cell_type": "code",
   "execution_count": 17,
   "metadata": {},
   "outputs": [
    {
     "data": {
      "application/vnd.jupyter.widget-view+json": {
       "model_id": "5a78798993994186815b33bcea608f32",
       "version_major": 2,
       "version_minor": 0
      },
      "text/plain": [
       "HBox(children=(FloatProgress(value=0.0, description='Processing', max=14.0, style=ProgressStyle(description_wi…"
      ]
     },
     "metadata": {},
     "output_type": "display_data"
    },
    {
     "name": "stdout",
     "output_type": "stream",
     "text": [
      "\n"
     ]
    },
    {
     "ename": "KeyError",
     "evalue": "'genEventSumw_'",
     "output_type": "error",
     "traceback": [
      "\u001b[0;31m---------------------------------------------------------------------------\u001b[0m",
      "\u001b[0;31m_RemoteTraceback\u001b[0m                          Traceback (most recent call last)",
      "\u001b[0;31m_RemoteTraceback\u001b[0m: \n\"\"\"\nTraceback (most recent call last):\n  File \"/cvmfs/cms.cern.ch/slc6_amd64_gcc700/external/python3/3.6.4-gnimlf/lib/python3.6/concurrent/futures/process.py\", line 175, in _process_worker\n    r = call_item.fn(*call_item.args, **call_item.kwargs)\n  File \"/home/users/dspitzba/TTW/CMSSW_10_2_9/src/tW_scattering/coffeaEnv/lib/python3.6/site-packages/coffea/processor/executor.py\", line 134, in __call__\n    out = self.function(*args, **kwargs)\n  File \"/home/users/dspitzba/TTW/CMSSW_10_2_9/src/tW_scattering/coffeaEnv/lib/python3.6/site-packages/coffea/processor/executor.py\", line 565, in _work_function\n    raise e\n  File \"/home/users/dspitzba/TTW/CMSSW_10_2_9/src/tW_scattering/coffeaEnv/lib/python3.6/site-packages/coffea/processor/executor.py\", line 526, in _work_function\n    out = processor_instance.process(df)\n  File \"<ipython-input-16-9c9fc7eb8e1b>\", line 64, in process\n    print (df[f'genEventSumw_'])\n  File \"/home/users/dspitzba/TTW/CMSSW_10_2_9/src/tW_scattering/coffeaEnv/lib/python3.6/site-packages/coffea/processor/dataframe.py\", line 52, in __getitem__\n    raise KeyError(key)\nKeyError: 'genEventSumw_'\n\"\"\"",
      "\nThe above exception was the direct cause of the following exception:\n",
      "\u001b[0;31mKeyError\u001b[0m                                  Traceback (most recent call last)",
      "\u001b[0;32m<ipython-input-17-d9b987b684dc>\u001b[0m in \u001b[0;36m<module>\u001b[0;34m()\u001b[0m\n\u001b[1;32m     34\u001b[0m                                       \u001b[0mexecutor\u001b[0m\u001b[0;34m=\u001b[0m\u001b[0mprocessor\u001b[0m\u001b[0;34m.\u001b[0m\u001b[0mfutures_executor\u001b[0m\u001b[0;34m,\u001b[0m\u001b[0;34m\u001b[0m\u001b[0m\n\u001b[1;32m     35\u001b[0m                                       \u001b[0mexecutor_args\u001b[0m\u001b[0;34m=\u001b[0m\u001b[0;34m{\u001b[0m\u001b[0;34m'workers'\u001b[0m\u001b[0;34m:\u001b[0m \u001b[0mworkers\u001b[0m\u001b[0;34m,\u001b[0m \u001b[0;34m'function_args'\u001b[0m\u001b[0;34m:\u001b[0m \u001b[0;34m{\u001b[0m\u001b[0;34m'flatten'\u001b[0m\u001b[0;34m:\u001b[0m \u001b[0;32mFalse\u001b[0m\u001b[0;34m}\u001b[0m\u001b[0;34m}\u001b[0m\u001b[0;34m,\u001b[0m\u001b[0;34m\u001b[0m\u001b[0m\n\u001b[0;32m---> 36\u001b[0;31m                                       \u001b[0mchunksize\u001b[0m\u001b[0;34m=\u001b[0m\u001b[0;36m500000\u001b[0m\u001b[0;34m,\u001b[0m\u001b[0;34m\u001b[0m\u001b[0m\n\u001b[0m\u001b[1;32m     37\u001b[0m                                      )\n\u001b[1;32m     38\u001b[0m     \u001b[0mcache\u001b[0m\u001b[0;34m[\u001b[0m\u001b[0;34m'fileset'\u001b[0m\u001b[0;34m]\u001b[0m        \u001b[0;34m=\u001b[0m \u001b[0mfileset\u001b[0m\u001b[0;34m\u001b[0m\u001b[0m\n",
      "\u001b[0;32m/home/users/dspitzba/TTW/CMSSW_10_2_9/src/tW_scattering/coffeaEnv/lib/python3.6/site-packages/coffea/processor/executor.py\u001b[0m in \u001b[0;36mrun_uproot_job\u001b[0;34m(fileset, treename, processor_instance, executor, executor_args, pre_executor, pre_args, chunksize, maxchunks, metadata_cache)\u001b[0m\n\u001b[1;32m    798\u001b[0m     }\n\u001b[1;32m    799\u001b[0m     \u001b[0mexe_args\u001b[0m\u001b[0;34m.\u001b[0m\u001b[0mupdate\u001b[0m\u001b[0;34m(\u001b[0m\u001b[0mexecutor_args\u001b[0m\u001b[0;34m)\u001b[0m\u001b[0;34m\u001b[0m\u001b[0m\n\u001b[0;32m--> 800\u001b[0;31m     \u001b[0mexecutor\u001b[0m\u001b[0;34m(\u001b[0m\u001b[0mchunks\u001b[0m\u001b[0;34m,\u001b[0m \u001b[0mclosure\u001b[0m\u001b[0;34m,\u001b[0m \u001b[0mwrapped_out\u001b[0m\u001b[0;34m,\u001b[0m \u001b[0;34m**\u001b[0m\u001b[0mexe_args\u001b[0m\u001b[0;34m)\u001b[0m\u001b[0;34m\u001b[0m\u001b[0m\n\u001b[0m\u001b[1;32m    801\u001b[0m     \u001b[0mwrapped_out\u001b[0m\u001b[0;34m[\u001b[0m\u001b[0;34m'metrics'\u001b[0m\u001b[0;34m]\u001b[0m\u001b[0;34m[\u001b[0m\u001b[0;34m'chunks'\u001b[0m\u001b[0;34m]\u001b[0m \u001b[0;34m=\u001b[0m \u001b[0mvalue_accumulator\u001b[0m\u001b[0;34m(\u001b[0m\u001b[0mint\u001b[0m\u001b[0;34m,\u001b[0m \u001b[0mlen\u001b[0m\u001b[0;34m(\u001b[0m\u001b[0mchunks\u001b[0m\u001b[0;34m)\u001b[0m\u001b[0;34m)\u001b[0m\u001b[0;34m\u001b[0m\u001b[0m\n\u001b[1;32m    802\u001b[0m     \u001b[0mprocessor_instance\u001b[0m\u001b[0;34m.\u001b[0m\u001b[0mpostprocess\u001b[0m\u001b[0;34m(\u001b[0m\u001b[0mout\u001b[0m\u001b[0;34m)\u001b[0m\u001b[0;34m\u001b[0m\u001b[0m\n",
      "\u001b[0;32m/home/users/dspitzba/TTW/CMSSW_10_2_9/src/tW_scattering/coffeaEnv/lib/python3.6/site-packages/coffea/processor/executor.py\u001b[0m in \u001b[0;36mfutures_executor\u001b[0;34m(items, function, accumulator, **kwargs)\u001b[0m\n\u001b[1;32m    297\u001b[0m         \u001b[0;32mwith\u001b[0m \u001b[0mpool\u001b[0m\u001b[0;34m(\u001b[0m\u001b[0mmax_workers\u001b[0m\u001b[0;34m=\u001b[0m\u001b[0mworkers\u001b[0m\u001b[0;34m)\u001b[0m \u001b[0;32mas\u001b[0m \u001b[0mexecutor\u001b[0m\u001b[0;34m:\u001b[0m\u001b[0;34m\u001b[0m\u001b[0m\n\u001b[1;32m    298\u001b[0m             \u001b[0mfutures\u001b[0m \u001b[0;34m=\u001b[0m \u001b[0mset\u001b[0m\u001b[0;34m(\u001b[0m\u001b[0mexecutor\u001b[0m\u001b[0;34m.\u001b[0m\u001b[0msubmit\u001b[0m\u001b[0;34m(\u001b[0m\u001b[0mfunction\u001b[0m\u001b[0;34m,\u001b[0m \u001b[0mitem\u001b[0m\u001b[0;34m)\u001b[0m \u001b[0;32mfor\u001b[0m \u001b[0mitem\u001b[0m \u001b[0;32min\u001b[0m \u001b[0mitems\u001b[0m\u001b[0;34m)\u001b[0m\u001b[0;34m\u001b[0m\u001b[0m\n\u001b[0;32m--> 299\u001b[0;31m             \u001b[0m_futures_handler\u001b[0m\u001b[0;34m(\u001b[0m\u001b[0mfutures\u001b[0m\u001b[0;34m,\u001b[0m \u001b[0maccumulator\u001b[0m\u001b[0;34m,\u001b[0m \u001b[0mstatus\u001b[0m\u001b[0;34m,\u001b[0m \u001b[0munit\u001b[0m\u001b[0;34m,\u001b[0m \u001b[0mdesc\u001b[0m\u001b[0;34m,\u001b[0m \u001b[0madd_fn\u001b[0m\u001b[0;34m,\u001b[0m \u001b[0mtailtimeout\u001b[0m\u001b[0;34m)\u001b[0m\u001b[0;34m\u001b[0m\u001b[0m\n\u001b[0m\u001b[1;32m    300\u001b[0m     \u001b[0;32mreturn\u001b[0m \u001b[0maccumulator\u001b[0m\u001b[0;34m\u001b[0m\u001b[0m\n\u001b[1;32m    301\u001b[0m \u001b[0;34m\u001b[0m\u001b[0m\n",
      "\u001b[0;32m/home/users/dspitzba/TTW/CMSSW_10_2_9/src/tW_scattering/coffeaEnv/lib/python3.6/site-packages/coffea/processor/executor.py\u001b[0m in \u001b[0;36m_futures_handler\u001b[0;34m(futures_set, output, status, unit, desc, add_fn, tailtimeout)\u001b[0m\n\u001b[1;32m    190\u001b[0m                 \u001b[0mfutures_set\u001b[0m\u001b[0;34m.\u001b[0m\u001b[0mdifference_update\u001b[0m\u001b[0;34m(\u001b[0m\u001b[0mfinished\u001b[0m\u001b[0;34m)\u001b[0m\u001b[0;34m\u001b[0m\u001b[0m\n\u001b[1;32m    191\u001b[0m                 \u001b[0;32mwhile\u001b[0m \u001b[0mfinished\u001b[0m\u001b[0;34m:\u001b[0m\u001b[0;34m\u001b[0m\u001b[0m\n\u001b[0;32m--> 192\u001b[0;31m                     \u001b[0madd_fn\u001b[0m\u001b[0;34m(\u001b[0m\u001b[0moutput\u001b[0m\u001b[0;34m,\u001b[0m \u001b[0mfinished\u001b[0m\u001b[0;34m.\u001b[0m\u001b[0mpop\u001b[0m\u001b[0;34m(\u001b[0m\u001b[0;34m)\u001b[0m\u001b[0;34m.\u001b[0m\u001b[0mresult\u001b[0m\u001b[0;34m(\u001b[0m\u001b[0;34m)\u001b[0m\u001b[0;34m)\u001b[0m\u001b[0;34m\u001b[0m\u001b[0m\n\u001b[0m\u001b[1;32m    193\u001b[0m                     \u001b[0mpbar\u001b[0m\u001b[0;34m.\u001b[0m\u001b[0mupdate\u001b[0m\u001b[0;34m(\u001b[0m\u001b[0;36m1\u001b[0m\u001b[0;34m)\u001b[0m\u001b[0;34m\u001b[0m\u001b[0m\n\u001b[1;32m    194\u001b[0m                     \u001b[0mlast_job\u001b[0m \u001b[0;34m=\u001b[0m \u001b[0mtime\u001b[0m\u001b[0;34m.\u001b[0m\u001b[0mtime\u001b[0m\u001b[0;34m(\u001b[0m\u001b[0;34m)\u001b[0m\u001b[0;34m\u001b[0m\u001b[0m\n",
      "\u001b[0;32m/cvmfs/cms.cern.ch/slc6_amd64_gcc700/external/python3/3.6.4-gnimlf/lib/python3.6/concurrent/futures/_base.py\u001b[0m in \u001b[0;36mresult\u001b[0;34m(self, timeout)\u001b[0m\n\u001b[1;32m    423\u001b[0m                 \u001b[0;32mraise\u001b[0m \u001b[0mCancelledError\u001b[0m\u001b[0;34m(\u001b[0m\u001b[0;34m)\u001b[0m\u001b[0;34m\u001b[0m\u001b[0m\n\u001b[1;32m    424\u001b[0m             \u001b[0;32melif\u001b[0m \u001b[0mself\u001b[0m\u001b[0;34m.\u001b[0m\u001b[0m_state\u001b[0m \u001b[0;34m==\u001b[0m \u001b[0mFINISHED\u001b[0m\u001b[0;34m:\u001b[0m\u001b[0;34m\u001b[0m\u001b[0m\n\u001b[0;32m--> 425\u001b[0;31m                 \u001b[0;32mreturn\u001b[0m \u001b[0mself\u001b[0m\u001b[0;34m.\u001b[0m\u001b[0m__get_result\u001b[0m\u001b[0;34m(\u001b[0m\u001b[0;34m)\u001b[0m\u001b[0;34m\u001b[0m\u001b[0m\n\u001b[0m\u001b[1;32m    426\u001b[0m \u001b[0;34m\u001b[0m\u001b[0m\n\u001b[1;32m    427\u001b[0m             \u001b[0mself\u001b[0m\u001b[0;34m.\u001b[0m\u001b[0m_condition\u001b[0m\u001b[0;34m.\u001b[0m\u001b[0mwait\u001b[0m\u001b[0;34m(\u001b[0m\u001b[0mtimeout\u001b[0m\u001b[0;34m)\u001b[0m\u001b[0;34m\u001b[0m\u001b[0m\n",
      "\u001b[0;32m/cvmfs/cms.cern.ch/slc6_amd64_gcc700/external/python3/3.6.4-gnimlf/lib/python3.6/concurrent/futures/_base.py\u001b[0m in \u001b[0;36m__get_result\u001b[0;34m(self)\u001b[0m\n\u001b[1;32m    382\u001b[0m     \u001b[0;32mdef\u001b[0m \u001b[0m__get_result\u001b[0m\u001b[0;34m(\u001b[0m\u001b[0mself\u001b[0m\u001b[0;34m)\u001b[0m\u001b[0;34m:\u001b[0m\u001b[0;34m\u001b[0m\u001b[0m\n\u001b[1;32m    383\u001b[0m         \u001b[0;32mif\u001b[0m \u001b[0mself\u001b[0m\u001b[0;34m.\u001b[0m\u001b[0m_exception\u001b[0m\u001b[0;34m:\u001b[0m\u001b[0;34m\u001b[0m\u001b[0m\n\u001b[0;32m--> 384\u001b[0;31m             \u001b[0;32mraise\u001b[0m \u001b[0mself\u001b[0m\u001b[0;34m.\u001b[0m\u001b[0m_exception\u001b[0m\u001b[0;34m\u001b[0m\u001b[0m\n\u001b[0m\u001b[1;32m    385\u001b[0m         \u001b[0;32melse\u001b[0m\u001b[0;34m:\u001b[0m\u001b[0;34m\u001b[0m\u001b[0m\n\u001b[1;32m    386\u001b[0m             \u001b[0;32mreturn\u001b[0m \u001b[0mself\u001b[0m\u001b[0;34m.\u001b[0m\u001b[0m_result\u001b[0m\u001b[0;34m\u001b[0m\u001b[0m\n",
      "\u001b[0;31mKeyError\u001b[0m: 'genEventSumw_'"
     ]
    }
   ],
   "source": [
    "overwrite = True\n",
    "small = True\n",
    "\n",
    "# load the config and the cache\n",
    "cfg = loadConfig()\n",
    "\n",
    "cacheName = 'triLep_small' if small else 'triLep'\n",
    "\n",
    "from samples import fileset, fileset_small, fileset_3l\n",
    "\n",
    "# histograms\n",
    "histograms = []\n",
    "histograms += ['N_ele', 'N_mu', 'N_diele', 'N_dimu']\n",
    "\n",
    "# initialize cache\n",
    "cache = dir_archive(os.path.join(os.path.expandvars(cfg['caches']['base']), cfg['caches'][cacheName]), serialized=True)\n",
    "if not overwrite:\n",
    "    cache.load()\n",
    "\n",
    "if cfg == cache.get('cfg') and histograms == cache.get('histograms') and cache.get('simple_output'):\n",
    "    output = cache.get('simple_output')\n",
    "\n",
    "else:\n",
    "    # Run the processor\n",
    "    if small:\n",
    "        fileset = fileset_small\n",
    "        workers = 1\n",
    "    else:\n",
    "        fileset = fileset_3l\n",
    "        workers = 8\n",
    "    output = processor.run_uproot_job(fileset,\n",
    "                                      treename='Events',\n",
    "                                      processor_instance=exampleProcessor(),\n",
    "                                      executor=processor.futures_executor,\n",
    "                                      executor_args={'workers': workers, 'function_args': {'flatten': False}},\n",
    "                                      chunksize=500000,\n",
    "                                     )\n",
    "    cache['fileset']        = fileset\n",
    "    cache['cfg']            = cfg\n",
    "    cache['histograms']     = histograms\n",
    "    cache['simple_output']  = output\n",
    "    cache.dump()\n",
    "\n"
   ]
  },
  {
   "cell_type": "code",
   "execution_count": 34,
   "metadata": {},
   "outputs": [
    {
     "name": "stderr",
     "output_type": "stream",
     "text": [
      "/home/users/dspitzba/TTW/CMSSW_10_2_9/src/tW_scattering/coffeaEnv/lib/python3.6/site-packages/mplhep/_deprecate.py:56: DeprecationWarning: kwarg \"densitymode\" in function \"histplot\" is deprecated and may be removed in future versions: \"unit\"mode is not useful\n",
      "  return func(*args, **kwargs)\n"
     ]
    },
    {
     "data": {
      "image/png": "[encoded data removed]",
      "text/plain": [
       "<Figure size 432x288 with 1 Axes>"
      ]
     },
     "metadata": {},
     "output_type": "display_data"
    }
   ],
   "source": [
    "histogram = output['eta_spec_max']\n",
    "ax = hist.plot1d(histogram,overlay=\"dataset\", stack=True)"
   ]
  },
  {
   "cell_type": "code",
   "execution_count": 38,
   "metadata": {
    "scrolled": true
   },
   "outputs": [
    {
     "name": "stderr",
     "output_type": "stream",
     "text": [
      "/home/users/dspitzba/TTW/CMSSW_10_2_9/src/tW_scattering/coffeaEnv/lib/python3.6/site-packages/mplhep/_deprecate.py:56: DeprecationWarning: kwarg \"densitymode\" in function \"histplot\" is deprecated and may be removed in future versions: \"unit\"mode is not useful\n",
      "  return func(*args, **kwargs)\n"
     ]
    },
    {
     "data": {
      "image/png": "[encoded data removed]",
      "text/plain": [
       "<Figure size 432x288 with 1 Axes>"
      ]
     },
     "metadata": {},
     "output_type": "display_data"
    }
   ],
   "source": [
    "histogram = output['N_jet']\n",
    "ax = hist.plot1d(histogram,overlay=\"dataset\", stack=True)"
   ]
  },
  {
   "cell_type": "code",
   "execution_count": 4,
   "metadata": {},
   "outputs": [
    {
     "name": "stdout",
     "output_type": "stream",
     "text": [
      "              tW_scattering          TTW          TTX     diboson  \\\n",
      "skim              46.840054  4453.033199  1703.967749  595.825589   \n",
      "trilep             0.514726    74.747868   128.956370    0.081547   \n",
      "twoJet             0.514726    64.056782   117.137959    0.054365   \n",
      "oneBTag            0.514726    53.742240    83.914733    0.000000   \n",
      "met50              0.257363    43.051780    56.656219    0.000000   \n",
      "fwd jet 50         0.257363    12.189746    20.524785    0.000000   \n",
      "Zveto_wide         0.000000    10.970081     1.417561    0.000000   \n",
      "Zveto_narrow       0.000000    10.970081     1.417561    0.000000   \n",
      "\n",
      "                    ttbar            DY  \n",
      "skim          5415.434989  1.045822e+06  \n",
      "trilep           0.038867  3.289347e+02  \n",
      "twoJet           0.159923  1.151931e+02  \n",
      "oneBTag          0.160328  1.647970e+01  \n",
      "met50            0.080164  0.000000e+00  \n",
      "fwd jet 50       0.040082  0.000000e+00  \n",
      "Zveto_wide       0.000000  0.000000e+00  \n",
      "Zveto_narrow     0.000000  0.000000e+00  \n"
     ]
    }
   ],
   "source": [
    "df = getCutFlowTable(output, processes=['tW_scattering', 'TTW', 'TTX', 'diboson','ttbar', 'DY'], lines=['skim', 'trilep','twoJet','oneBTag','met50', 'fwd jet 50','Zveto_wide', 'Zveto_narrow'])"
   ]
  },
  {
   "cell_type": "code",
   "execution_count": 11,
   "metadata": {},
   "outputs": [
    {
     "data": {
      "text/plain": [
       "0.15586381746232214"
      ]
     },
     "execution_count": 11,
     "metadata": {},
     "output_type": "execute_result"
    }
   ],
   "source": [
    "23.139932/1.484625e+02"
   ]
  },
  {
   "cell_type": "code",
   "execution_count": 8,
   "metadata": {},
   "outputs": [
    {
     "data": {
      "text/plain": [
       "{'DY': defaultdict_accumulator(int,\n",
       "                         {'Zveto_narrow': 0,\n",
       "                          'Zveto_wide': 0,\n",
       "                          'fwd jet': 0,\n",
       "                          'fwd jet 50': 0,\n",
       "                          'met50': 0,\n",
       "                          'oneBTag': 16.479695804417133,\n",
       "                          'skim': 1045822.2476198301,\n",
       "                          'trilep': 328.93472895026207,\n",
       "                          'twoJet': 115.19307384639978}),\n",
       " 'FWMT1': <Hist (dataset,norm) instance at 0x7fa85c893d68>,\n",
       " 'FWMT2': <Hist (dataset,norm) instance at 0x7fa85c893c88>,\n",
       " 'FWMT3': <Hist (dataset,norm) instance at 0x7fa85c893e80>,\n",
       " 'FWMT4': <Hist (dataset,norm) instance at 0x7fa85c893da0>,\n",
       " 'FWMT5': <Hist (dataset,norm) instance at 0x7fa85c893cc0>,\n",
       " 'HT': <Hist (dataset,ht) instance at 0x7fa85c8939b0>,\n",
       " 'MET_pt': <Hist (dataset,pt) instance at 0x7fa85c893940>,\n",
       " 'MT': <Hist (dataset,pt) instance at 0x7fa85c893be0>,\n",
       " 'N_b': <Hist (dataset,multiplicity) instance at 0x7fa85c893ac8>,\n",
       " 'N_diele': <Hist (dataset,multiplicity) instance at 0x7fa85c893a58>,\n",
       " 'N_dimu': <Hist (dataset,multiplicity) instance at 0x7fa85c893b38>,\n",
       " 'N_ele': <Hist (dataset,multiplicity) instance at 0x7fa85c8939e8>,\n",
       " 'N_jet': <Hist (dataset,multiplicity) instance at 0x7fa85c893b70>,\n",
       " 'N_mu': <Hist (dataset,multiplicity) instance at 0x7fa85c893cf8>,\n",
       " 'N_spec': <Hist (dataset,multiplicity) instance at 0x7fa85c893dd8>,\n",
       " 'S': <Hist (dataset,norm) instance at 0x7fa85c893f60>,\n",
       " 'ST': <Hist (dataset,ht) instance at 0x7fa85c8937b8>,\n",
       " 'S_lep': <Hist (dataset,norm) instance at 0x7fa85c893eb8>,\n",
       " 'TTW': defaultdict_accumulator(int,\n",
       "                         {'Zveto_narrow': 10.970080998318736,\n",
       "                          'Zveto_wide': 10.970080998318736,\n",
       "                          'fwd jet': 12.189745754723845,\n",
       "                          'fwd jet 50': 12.189745754723845,\n",
       "                          'met50': 43.051779876717774,\n",
       "                          'oneBTag': 53.742239583822084,\n",
       "                          'skim': 4453.033199200589,\n",
       "                          'trilep': 74.74786798642162,\n",
       "                          'twoJet': 64.05678227705357}),\n",
       " 'TTX': defaultdict_accumulator(int,\n",
       "                         {'Zveto_narrow': 1.4175605259551958,\n",
       "                          'Zveto_wide': 1.4175605259551958,\n",
       "                          'fwd jet': 20.524785484586758,\n",
       "                          'fwd jet 50': 20.524785484586758,\n",
       "                          'met50': 56.656218981515124,\n",
       "                          'oneBTag': 83.91473337664429,\n",
       "                          'skim': 1703.9677485664572,\n",
       "                          'trilep': 128.95636955977824,\n",
       "                          'twoJet': 117.13795904760555}),\n",
       " 'diboson': defaultdict_accumulator(int,\n",
       "                         {'Zveto_narrow': 0,\n",
       "                          'Zveto_wide': 0,\n",
       "                          'fwd jet': 0,\n",
       "                          'fwd jet 50': 0,\n",
       "                          'met50': 0,\n",
       "                          'oneBTag': 0,\n",
       "                          'skim': 595.8255886457482,\n",
       "                          'trilep': 0.08154747662774753,\n",
       "                          'twoJet': 0.05436498441849835}),\n",
       " 'eta_spec_max': <Hist (dataset,eta) instance at 0x7fa85c893400>,\n",
       " 'mbj_max': <Hist (dataset,mass) instance at 0x7fa85c893a90>,\n",
       " 'mjj_max': <Hist (dataset,mass) instance at 0x7fa85c8933c8>,\n",
       " 'mlb_max': <Hist (dataset,mass) instance at 0x7fa85c893390>,\n",
       " 'mlb_min': <Hist (dataset,mass) instance at 0x7fa85c893470>,\n",
       " 'mlj_max': <Hist (dataset,mass) instance at 0x7fa85c893a20>,\n",
       " 'mlj_min': <Hist (dataset,mass) instance at 0x7fa85c893c50>,\n",
       " 'pt_spec_max': <Hist (dataset,pt) instance at 0x7fa85c893978>,\n",
       " 'tW_scattering': defaultdict_accumulator(int,\n",
       "                         {'Zveto_narrow': 0,\n",
       "                          'Zveto_wide': 0,\n",
       "                          'fwd jet': 0.25736293487716466,\n",
       "                          'fwd jet 50': 0.25736293487716466,\n",
       "                          'met50': 0.25736293487716466,\n",
       "                          'oneBTag': 0.5147258697543293,\n",
       "                          'skim': 46.84005414764397,\n",
       "                          'trilep': 0.5147258697543293,\n",
       "                          'twoJet': 0.5147258697543293}),\n",
       " 'totalEvents': defaultdict_accumulator(int, {'all': 1355593}),\n",
       " 'ttbar': defaultdict_accumulator(int,\n",
       "                         {'Zveto_narrow': 0,\n",
       "                          'Zveto_wide': 0,\n",
       "                          'fwd jet': 0.040081939863739535,\n",
       "                          'fwd jet 50': 0.040081939863739535,\n",
       "                          'met50': 0.08016387972747907,\n",
       "                          'oneBTag': 0.16032775945495814,\n",
       "                          'skim': 5415.434989370886,\n",
       "                          'trilep': 0.03886733949184418,\n",
       "                          'twoJet': 0.15992289266432635})}"
      ]
     },
     "execution_count": 8,
     "metadata": {},
     "output_type": "execute_result"
    }
   ],
   "source": [
    "output"
   ]
  },
  {
   "cell_type": "code",
   "execution_count": null,
   "metadata": {},
   "outputs": [],
   "source": []
  }
 ],
 "metadata": {
  "kernelspec": {
   "display_name": "coffeaEnv",
   "language": "python",
   "name": "coffeaenv"
  },
  "language_info": {
   "codemirror_mode": {
    "name": "ipython",
    "version": 3
   },
   "file_extension": ".py",
   "mimetype": "text/x-python",
   "name": "python",
   "nbconvert_exporter": "python",
   "pygments_lexer": "ipython3",
   "version": "3.6.4"
  }
 },
 "nbformat": 4,
 "nbformat_minor": 2
}
