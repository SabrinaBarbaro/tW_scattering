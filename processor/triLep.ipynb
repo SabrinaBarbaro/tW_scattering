{
 "cells": [
  {
   "cell_type": "markdown",
   "metadata": {},
   "source": [
    "# Example Notebook for trilepton events"
   ]
  },
  {
   "cell_type": "code",
   "execution_count": 1,
   "metadata": {},
   "outputs": [],
   "source": [
    "import os\n",
    "import time\n",
    "import glob\n",
    "import re\n",
    "import pandas as pd\n",
    "from functools import reduce\n",
    "from klepto.archives import dir_archive\n",
    "\n",
    "import numpy as np\n",
    "from tqdm.auto import tqdm\n",
    "import coffea.processor as processor\n",
    "from coffea.processor.accumulator import AccumulatorABC\n",
    "from coffea.analysis_objects import JaggedCandidateArray\n",
    "from coffea import hist\n",
    "import pandas as pd\n",
    "import uproot_methods\n",
    "import awkward\n",
    "\n",
    "from memory_profiler import profile\n",
    "\n",
    "%matplotlib inline\n",
    "import matplotlib\n",
    "import matplotlib.pyplot as plt\n",
    "from matplotlib.colors import LogNorm\n",
    "\n",
    "from Tools.helpers import addRowToCutFlow, loadConfig, getCutFlowTable\n",
    "\n",
    "# This just tells matplotlib not to open any\n",
    "# interactive windows.\n",
    "matplotlib.use('Agg')"
   ]
  },
  {
   "cell_type": "code",
   "execution_count": 2,
   "metadata": {},
   "outputs": [],
   "source": [
    "class exampleProcessor(processor.ProcessorABC):\n",
    "    \"\"\"Dummy processor used to demonstrate the processor principle\"\"\"\n",
    "    def __init__(self):\n",
    "\n",
    "        # we can use a large number of bins and rebin later\n",
    "        dataset_axis        = hist.Cat(\"dataset\",   \"Primary dataset\")\n",
    "        pt_axis             = hist.Bin(\"pt\",        r\"$p_{T}$ (GeV)\", 1000, 0, 1000)\n",
    "        ht_axis             = hist.Bin(\"ht\",        r\"$H_{T}$ (GeV)\", 500, 0, 5000)\n",
    "        mass_axis           = hist.Bin(\"mass\",      r\"M (GeV)\", 1000, 0, 2000)\n",
    "        eta_axis            = hist.Bin(\"eta\",       r\"$\\eta$\", 60, -5.5, 5.5)\n",
    "        multiplicity_axis   = hist.Bin(\"multiplicity\",         r\"N\", 20, -0.5, 19.5)\n",
    "        norm_axis            = hist.Bin(\"norm\",         r\"N\", 25, 0, 1)\n",
    "\n",
    "        self._accumulator = processor.dict_accumulator({\n",
    "            \"MET_pt\" :          hist.Hist(\"Counts\", dataset_axis, pt_axis),\n",
    "            \"pt_spec_max\" :          hist.Hist(\"Counts\", dataset_axis, pt_axis),\n",
    "            \"MT\" :          hist.Hist(\"Counts\", dataset_axis, pt_axis),\n",
    "            \"HT\" :          hist.Hist(\"Counts\", dataset_axis, ht_axis),\n",
    "            \"ST\" :          hist.Hist(\"Counts\", dataset_axis, ht_axis),\n",
    "            \"mbj_max\" :          hist.Hist(\"Counts\", dataset_axis, mass_axis),\n",
    "            \"mjj_max\" :          hist.Hist(\"Counts\", dataset_axis, mass_axis),\n",
    "            \"mlb_max\" :          hist.Hist(\"Counts\", dataset_axis, mass_axis),\n",
    "            \"mlb_min\" :          hist.Hist(\"Counts\", dataset_axis, mass_axis),\n",
    "            \"mlj_max\" :          hist.Hist(\"Counts\", dataset_axis, mass_axis),\n",
    "            \"mlj_min\" :          hist.Hist(\"Counts\", dataset_axis, mass_axis),\n",
    "            \"N_b\" :             hist.Hist(\"Counts\", dataset_axis, multiplicity_axis),\n",
    "            \"N_ele\" :             hist.Hist(\"Counts\", dataset_axis, multiplicity_axis),\n",
    "            \"N_diele\" :             hist.Hist(\"Counts\", dataset_axis, multiplicity_axis),\n",
    "            \"N_mu\" :             hist.Hist(\"Counts\", dataset_axis, multiplicity_axis),\n",
    "            \"N_dimu\" :             hist.Hist(\"Counts\", dataset_axis, multiplicity_axis),\n",
    "            \"N_jet\" :           hist.Hist(\"Counts\", dataset_axis, multiplicity_axis),\n",
    "            \"N_spec\" :           hist.Hist(\"Counts\", dataset_axis, multiplicity_axis),\n",
    "            \"FWMT1\" :           hist.Hist(\"Counts\", dataset_axis, norm_axis),\n",
    "            \"FWMT2\" :           hist.Hist(\"Counts\", dataset_axis, norm_axis),\n",
    "            \"FWMT3\" :           hist.Hist(\"Counts\", dataset_axis, norm_axis),\n",
    "            \"FWMT4\" :           hist.Hist(\"Counts\", dataset_axis, norm_axis),\n",
    "            \"FWMT5\" :           hist.Hist(\"Counts\", dataset_axis, norm_axis),\n",
    "            \"S\" :               hist.Hist(\"Counts\", dataset_axis, norm_axis),\n",
    "            \"S_lep\" :           hist.Hist(\"Counts\", dataset_axis, norm_axis),\n",
    "            'diboson':          processor.defaultdict_accumulator(int),\n",
    "            'ttbar':            processor.defaultdict_accumulator(int),\n",
    "            'TTW':              processor.defaultdict_accumulator(int),\n",
    "            'TTX':              processor.defaultdict_accumulator(int),\n",
    "            'tW_scattering':    processor.defaultdict_accumulator(int),\n",
    "            'totalEvents':      processor.defaultdict_accumulator(int),\n",
    "        })\n",
    "\n",
    "    @property\n",
    "    def accumulator(self):\n",
    "        return self._accumulator\n",
    "\n",
    "    def process(self, df):\n",
    "        \"\"\"\n",
    "        Processing function. This is where the actual analysis happens.\n",
    "        \"\"\"\n",
    "        output = self.accumulator.identity()\n",
    "        dataset = df[\"dataset\"]\n",
    "        cfg = loadConfig()\n",
    "\n",
    "        # load all the default candidates (jets, leptons, ...)\n",
    "\n",
    "        ## Jets\n",
    "        jet = JaggedCandidateArray.candidatesfromcounts(\n",
    "            df['nJet'],\n",
    "            pt = df['Jet_pt'].content,\n",
    "            eta = df['Jet_eta'].content,\n",
    "            phi = df['Jet_phi'].content,\n",
    "            mass = df['Jet_mass'].content,\n",
    "            goodjet = df['Jet_isGoodJetAll'].content,\n",
    "            bjet = df['Jet_isGoodBJet'].content,\n",
    "            jetId = df['Jet_jetId'].content,\n",
    "            puId = df['Jet_puId'].content,\n",
    "        )\n",
    "        jet     = jet[(jet['goodjet']==1)]\n",
    "        btag    = jet[jet['bjet']==1]\n",
    "        light   = jet[(jet['goodjet']==1) & (jet['bjet']==0)]\n",
    "\n",
    "        ## Leptons\n",
    "        lepton = JaggedCandidateArray.candidatesfromcounts(\n",
    "            df['nLepton'],\n",
    "            pt = df['Lepton_pt'].content,\n",
    "            eta = df['Lepton_eta'].content,\n",
    "            phi = df['Lepton_phi'].content,\n",
    "            mass = df['Lepton_mass'].content,\n",
    "            pdgId = df['Lepton_pdgId'].content,\n",
    "        )\n",
    "\n",
    "        ## Muons\n",
    "        muon = lepton[abs(lepton['pdgId'])==13]\n",
    "        dimuon = muon.choose(2)\n",
    "        OSmuon = (dimuon.i0['pdgId'] * dimuon.i1['pdgId'] < 0)\n",
    "        dimuon = dimuon[OSmuon]\n",
    "\n",
    "        ## Electrons\n",
    "        electron = lepton[abs(lepton['pdgId'])==11]\n",
    "        dielectron = electron.choose(2)\n",
    "        OSelectron = (dielectron.i0['pdgId'] * dielectron.i1['pdgId'] < 0)\n",
    "        dielectron = dielectron[OSelectron]\n",
    "\n",
    "        ## MET\n",
    "        met_pt  = df[\"MET_pt\"]\n",
    "        met_phi = df[\"MET_phi\"]\n",
    "\n",
    "        ## Event classifieres\n",
    "        \n",
    "        \n",
    "        ## define selections (maybe move to a different file at some point)\n",
    "        trilep      = ((df['nLepton']==3) & (df['nVetoLepton']>=3))\n",
    "        twoJet      = (jet.counts>2) # those are any two jets\n",
    "        oneBTag     = (btag.counts>0)\n",
    "        twoMuon     = ( muon.counts==2 )\n",
    "        #Zveto_mu    = ( (dimuon.counts<1) )# | (abs(dimuon.mass - 91)>15) )\n",
    "        Zveto_mu    = ( ((dimuon.mass-91.)>15).counts<1 )\n",
    "        Zveto_ele   = ( ((dielectron.mass-91.)>15).counts<1 )\n",
    "        met         = (met_pt > 50)\n",
    "\n",
    "\n",
    "        ## work on the cutflow\n",
    "        output['totalEvents']['all'] += len(df['weight'])\n",
    "\n",
    "        addRowToCutFlow( output, df, cfg, 'skim',        None ) # entry point\n",
    "        addRowToCutFlow( output, df, cfg, 'trilep',      trilep )\n",
    "        addRowToCutFlow( output, df, cfg, 'twoJet',      trilep & twoJet )\n",
    "        addRowToCutFlow( output, df, cfg, 'oneBTag',     trilep & twoJet & oneBTag )\n",
    "        addRowToCutFlow( output, df, cfg, 'met50',       trilep & twoJet & oneBTag & met )\n",
    "        addRowToCutFlow( output, df, cfg, 'dimuon',      trilep & twoJet & oneBTag & met & twoMuon )\n",
    "        addRowToCutFlow( output, df, cfg, 'Zveto_mu',    trilep & twoJet & oneBTag & met & Zveto_mu )\n",
    "        addRowToCutFlow( output, df, cfg, 'Zveto',       trilep & twoJet & oneBTag & met & Zveto_mu & Zveto_ele )\n",
    "\n",
    "        # preselection of events\n",
    "        event_selection = trilep & twoJet & oneBTag & met\n",
    "        \n",
    "        ## And fill the histograms\n",
    "        # just the number of electrons and muons\n",
    "        output['N_ele'].fill(dataset=dataset, multiplicity=electron[event_selection].counts, weight=df['weight'][event_selection]*cfg['lumi'])\n",
    "        output['N_mu'].fill(dataset=dataset, multiplicity=muon[event_selection].counts, weight=df['weight'][event_selection]*cfg['lumi'])\n",
    "\n",
    "        # something a bit more tricky\n",
    "        output['N_diele'].fill(dataset=dataset, multiplicity=dielectron[event_selection].counts, weight=df['weight'][event_selection]*cfg['lumi'])\n",
    "        output['N_dimu'].fill(dataset=dataset, multiplicity=dimuon[event_selection].counts, weight=df['weight'][event_selection]*cfg['lumi'])\n",
    "\n",
    "        return output\n",
    "\n",
    "    def postprocess(self, accumulator):\n",
    "        return accumulator\n"
   ]
  },
  {
   "cell_type": "code",
   "execution_count": 3,
   "metadata": {},
   "outputs": [],
   "source": [
    "overwrite = False\n",
    "small = True\n",
    "\n",
    "# load the config and the cache\n",
    "cfg = loadConfig()\n",
    "\n",
    "cacheName = 'triLep_small' if small else 'triLep'\n",
    "\n",
    "from samples import fileset, fileset_small, fileset_3l\n",
    "\n",
    "# histograms\n",
    "histograms = []\n",
    "histograms += ['N_ele', 'N_mu', 'N_diele', 'N_dimu']\n",
    "\n",
    "# initialize cache\n",
    "cache = dir_archive(os.path.join(os.path.expandvars(cfg['caches']['base']), cfg['caches'][cacheName]), serialized=True)\n",
    "if not overwrite:\n",
    "    cache.load()\n",
    "\n",
    "if cfg == cache.get('cfg') and histograms == cache.get('histograms') and cache.get('simple_output'):\n",
    "    output = cache.get('simple_output')\n",
    "\n",
    "else:\n",
    "    # Run the processor\n",
    "    if small:\n",
    "        fileset = fileset_small\n",
    "        workers = 1\n",
    "    else:\n",
    "        fileset = fileset_3l\n",
    "        workers = 8\n",
    "    output = processor.run_uproot_job(fileset,\n",
    "                                      treename='Events',\n",
    "                                      processor_instance=exampleProcessor(),\n",
    "                                      executor=processor.futures_executor,\n",
    "                                      executor_args={'workers': workers, 'function_args': {'flatten': False}},\n",
    "                                      chunksize=100000,\n",
    "                                     )\n",
    "    cache['fileset']        = fileset\n",
    "    cache['cfg']            = cfg\n",
    "    cache['histograms']     = histograms\n",
    "    cache['simple_output']  = output\n",
    "    cache.dump()\n",
    "\n"
   ]
  },
  {
   "cell_type": "code",
   "execution_count": 4,
   "metadata": {},
   "outputs": [
    {
     "name": "stderr",
     "output_type": "stream",
     "text": [
      "/home/users/dspitzba/TTW/CMSSW_10_2_9/src/tW_scattering/coffeaEnv/lib/python3.6/site-packages/coffea/hist/plot.py:44: RuntimeWarning: All sumw are zero!  Cannot compute meaningful error bars\n",
      "  warnings.warn(\"All sumw are zero!  Cannot compute meaningful error bars\", RuntimeWarning)\n",
      "/home/users/dspitzba/TTW/CMSSW_10_2_9/src/tW_scattering/coffeaEnv/lib/python3.6/site-packages/mplhep/_deprecate.py:56: DeprecationWarning: kwarg \"densitymode\" in function \"histplot\" is deprecated and may be removed in future versions: \"unit\"mode is not useful\n",
      "  return func(*args, **kwargs)\n"
     ]
    },
    {
     "data": {
      "image/png": "[encoded data removed]",
      "text/plain": [
       "<Figure size 432x288 with 1 Axes>"
      ]
     },
     "metadata": {},
     "output_type": "display_data"
    }
   ],
   "source": [
    "histogram = output['N_diele']\n",
    "ax = hist.plot1d(histogram,overlay=\"dataset\", stack=True)"
   ]
  },
  {
   "cell_type": "code",
   "execution_count": 5,
   "metadata": {},
   "outputs": [
    {
     "name": "stderr",
     "output_type": "stream",
     "text": [
      "/home/users/dspitzba/TTW/CMSSW_10_2_9/src/tW_scattering/coffeaEnv/lib/python3.6/site-packages/coffea/hist/plot.py:44: RuntimeWarning: All sumw are zero!  Cannot compute meaningful error bars\n",
      "  warnings.warn(\"All sumw are zero!  Cannot compute meaningful error bars\", RuntimeWarning)\n",
      "/home/users/dspitzba/TTW/CMSSW_10_2_9/src/tW_scattering/coffeaEnv/lib/python3.6/site-packages/mplhep/_deprecate.py:56: DeprecationWarning: kwarg \"densitymode\" in function \"histplot\" is deprecated and may be removed in future versions: \"unit\"mode is not useful\n",
      "  return func(*args, **kwargs)\n"
     ]
    },
    {
     "data": {
      "image/png": "[encoded data removed]",
      "text/plain": [
       "<Figure size 432x288 with 1 Axes>"
      ]
     },
     "metadata": {},
     "output_type": "display_data"
    }
   ],
   "source": [
    "histogram = output['N_dimu']\n",
    "ax = hist.plot1d(histogram,overlay=\"dataset\", stack=True)"
   ]
  },
  {
   "cell_type": "code",
   "execution_count": 6,
   "metadata": {},
   "outputs": [
    {
     "name": "stdout",
     "output_type": "stream",
     "text": [
      "        tW_scattering        ttbar     diboson\n",
      "skim       123.662890  9741.338940  726.373038\n",
      "twoJet       0.514726     0.160328    0.000000\n"
     ]
    }
   ],
   "source": [
    "df = getCutFlowTable(output, processes=['tW_scattering', 'ttbar', 'diboson'], lines=['skim', 'twoJet'])"
   ]
  },
  {
   "cell_type": "code",
   "execution_count": null,
   "metadata": {},
   "outputs": [],
   "source": []
  }
 ],
 "metadata": {
  "kernelspec": {
   "display_name": "coffeaEnv",
   "language": "python",
   "name": "coffeaenv"
  },
  "language_info": {
   "codemirror_mode": {
    "name": "ipython",
    "version": 3
   },
   "file_extension": ".py",
   "mimetype": "text/x-python",
   "name": "python",
   "nbconvert_exporter": "python",
   "pygments_lexer": "ipython3",
   "version": "3.6.4"
  }
 },
 "nbformat": 4,
 "nbformat_minor": 2
}
