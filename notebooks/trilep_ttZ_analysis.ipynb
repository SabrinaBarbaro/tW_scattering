{
 "cells": [
  {
   "cell_type": "code",
   "execution_count": 40,
   "id": "verified-stevens",
   "metadata": {
    "scrolled": true
   },
   "outputs": [
    {
     "name": "stdout",
     "output_type": "stream",
     "text": [
      "The autoreload extension is already loaded. To reload it, use:\n",
      "  %reload_ext autoreload\n"
     ]
    }
   ],
   "source": [
    "%load_ext autoreload\n",
    "%autoreload 2"
   ]
  },
  {
   "cell_type": "code",
   "execution_count": 41,
   "id": "prescription-smooth",
   "metadata": {
    "scrolled": true
   },
   "outputs": [],
   "source": [
    "import os\n",
    "\n",
    "from Tools.config_helpers import loadConfig, make_small\n",
    "from klepto.archives import dir_archive\n",
    "\n",
    "from coffea.nanoevents import NanoEventsFactory, NanoAODSchema\n",
    "from coffea import processor, hist\n",
    "\n",
    "from processor.trilep_ttZ_analysis import trilep_ttZ_analysis\n",
    "from processor.default_accumulators import desired_output, add_processes_to_output, variations"
   ]
  },
  {
   "cell_type": "code",
   "execution_count": 42,
   "id": "stylish-outline",
   "metadata": {
    "scrolled": true
   },
   "outputs": [
    {
     "name": "stdout",
     "output_type": "stream",
     "text": [
      "I'm running now\n"
     ]
    },
    {
     "data": {
      "application/vnd.jupyter.widget-view+json": {
       "model_id": "85d3a18b3f6646e0a4ace36ab8917495",
       "version_major": 2,
       "version_minor": 0
      },
      "text/plain": [
       "Processing:   0%|          | 0/12 [00:00<?, ?chunk/s]"
      ]
     },
     "metadata": {},
     "output_type": "display_data"
    },
    {
     "ename": "Exception",
     "evalue": "Failed processing file: /hadoop/cms/store/user/dspitzba/nanoAOD/ttw_samples/topW_v0.2.3/ProjectMetis_TTWminusJetsToLNuEWK_5f_NLO_v2_RunIIAutumn18_NANO_v4/nanoSkim_1.root (0-58724)",
     "output_type": "error",
     "traceback": [
      "\u001b[0;31m---------------------------------------------------------------------------\u001b[0m",
      "\u001b[0;31m_RemoteTraceback\u001b[0m                          Traceback (most recent call last)",
      "\u001b[0;31m_RemoteTraceback\u001b[0m: \n\"\"\"\nTraceback (most recent call last):\n  File \"/home/users/sbarbaro/miniconda3/envs/coffeatest/lib/python3.8/site-packages/coffea/processor/executor.py\", line 897, in _work_function\n    out = processor_instance.process(events)\n  File \"/home/users/sbarbaro/ttw/CMSSW_10_2_9/src/tW_scattering_dilep/processor/trilep_ttZ_analysis.py\", line 174, in process\n    output['N_SFOS'].fill(dataset=dataset, multiplicity=SFOS[sel.trilep_baseline(omit=['offZ'])], weight=weight.weight()[sel.trilep_baseline(omit=['offZ'])])\n  File \"/home/users/sbarbaro/miniconda3/envs/coffeatest/lib/python3.8/site-packages/awkward/highlevel.py\", line 1007, in __getitem__\n    return ak._util.wrap(self._layout[where], self._behavior)\nValueError: in NumpyArray attempting to get 3716, index out of range\n\n(https://github.com/scikit-hep/awkward-1.0/blob/1.1.2/src/cpu-kernels/awkward_regularize_arrayslice.cpp#L18)\n\nThe above exception was the direct cause of the following exception:\n\nTraceback (most recent call last):\n  File \"/home/users/sbarbaro/miniconda3/envs/coffeatest/lib/python3.8/concurrent/futures/process.py\", line 239, in _process_worker\n    r = call_item.fn(*call_item.args, **call_item.kwargs)\n  File \"/home/users/sbarbaro/miniconda3/envs/coffeatest/lib/python3.8/site-packages/coffea/processor/executor.py\", line 129, in __call__\n    out = self.function(*args, **kwargs)\n  File \"/home/users/sbarbaro/miniconda3/envs/coffeatest/lib/python3.8/site-packages/coffea/processor/executor.py\", line 946, in _work_function\n    raise e\n  File \"/home/users/sbarbaro/miniconda3/envs/coffeatest/lib/python3.8/site-packages/coffea/processor/executor.py\", line 899, in _work_function\n    raise Exception(f\"Failed processing file: {item.filename} ({item.entrystart}-{item.entrystop})\") from e\nException: Failed processing file: /hadoop/cms/store/user/dspitzba/nanoAOD/ttw_samples/topW_v0.2.3/ProjectMetis_TTWminusJetsToLNuEWK_5f_NLO_v2_RunIIAutumn18_NANO_v4/nanoSkim_1.root (0-58724)\n\"\"\"",
      "\nThe above exception was the direct cause of the following exception:\n",
      "\u001b[0;31mException\u001b[0m                                 Traceback (most recent call last)",
      "\u001b[0;32m<ipython-input-42-5f407f217a1e>\u001b[0m in \u001b[0;36m<module>\u001b[0;34m\u001b[0m\n\u001b[1;32m     60\u001b[0m     \u001b[0mprint\u001b[0m \u001b[0;34m(\u001b[0m\u001b[0;34m\"I'm running now\"\u001b[0m\u001b[0;34m)\u001b[0m\u001b[0;34m\u001b[0m\u001b[0;34m\u001b[0m\u001b[0m\n\u001b[1;32m     61\u001b[0m \u001b[0;34m\u001b[0m\u001b[0m\n\u001b[0;32m---> 62\u001b[0;31m     output = processor.run_uproot_job(\n\u001b[0m\u001b[1;32m     63\u001b[0m         \u001b[0mfileset\u001b[0m\u001b[0;34m,\u001b[0m\u001b[0;34m\u001b[0m\u001b[0;34m\u001b[0m\u001b[0m\n\u001b[1;32m     64\u001b[0m         \u001b[0;34m\"Events\"\u001b[0m\u001b[0;34m,\u001b[0m\u001b[0;34m\u001b[0m\u001b[0;34m\u001b[0m\u001b[0m\n",
      "\u001b[0;32m~/miniconda3/envs/coffeatest/lib/python3.8/site-packages/coffea/processor/executor.py\u001b[0m in \u001b[0;36mrun_uproot_job\u001b[0;34m(fileset, treename, processor_instance, executor, executor_args, pre_executor, pre_args, chunksize, maxchunks, metadata_cache)\u001b[0m\n\u001b[1;32m   1212\u001b[0m     }\n\u001b[1;32m   1213\u001b[0m     \u001b[0mexe_args\u001b[0m\u001b[0;34m.\u001b[0m\u001b[0mupdate\u001b[0m\u001b[0;34m(\u001b[0m\u001b[0mexecutor_args\u001b[0m\u001b[0;34m)\u001b[0m\u001b[0;34m\u001b[0m\u001b[0;34m\u001b[0m\u001b[0m\n\u001b[0;32m-> 1214\u001b[0;31m     \u001b[0mexecutor\u001b[0m\u001b[0;34m(\u001b[0m\u001b[0mchunks\u001b[0m\u001b[0;34m,\u001b[0m \u001b[0mclosure\u001b[0m\u001b[0;34m,\u001b[0m \u001b[0mwrapped_out\u001b[0m\u001b[0;34m,\u001b[0m \u001b[0;34m**\u001b[0m\u001b[0mexe_args\u001b[0m\u001b[0;34m)\u001b[0m\u001b[0;34m\u001b[0m\u001b[0;34m\u001b[0m\u001b[0m\n\u001b[0m\u001b[1;32m   1215\u001b[0m \u001b[0;34m\u001b[0m\u001b[0m\n\u001b[1;32m   1216\u001b[0m     \u001b[0;32mif\u001b[0m \u001b[0;32mnot\u001b[0m \u001b[0muse_dataframes\u001b[0m\u001b[0;34m:\u001b[0m\u001b[0;34m\u001b[0m\u001b[0;34m\u001b[0m\u001b[0m\n",
      "\u001b[0;32m~/miniconda3/envs/coffeatest/lib/python3.8/site-packages/coffea/processor/executor.py\u001b[0m in \u001b[0;36mfutures_executor\u001b[0;34m(items, function, accumulator, **kwargs)\u001b[0m\n\u001b[1;32m    635\u001b[0m         \u001b[0;32mwith\u001b[0m \u001b[0mpool\u001b[0m\u001b[0;34m(\u001b[0m\u001b[0mmax_workers\u001b[0m\u001b[0;34m=\u001b[0m\u001b[0mworkers\u001b[0m\u001b[0;34m)\u001b[0m \u001b[0;32mas\u001b[0m \u001b[0mexecutor\u001b[0m\u001b[0;34m:\u001b[0m\u001b[0;34m\u001b[0m\u001b[0;34m\u001b[0m\u001b[0m\n\u001b[1;32m    636\u001b[0m             \u001b[0mfutures\u001b[0m \u001b[0;34m=\u001b[0m \u001b[0mset\u001b[0m\u001b[0;34m(\u001b[0m\u001b[0mexecutor\u001b[0m\u001b[0;34m.\u001b[0m\u001b[0msubmit\u001b[0m\u001b[0;34m(\u001b[0m\u001b[0mfunction\u001b[0m\u001b[0;34m,\u001b[0m \u001b[0mitem\u001b[0m\u001b[0;34m)\u001b[0m \u001b[0;32mfor\u001b[0m \u001b[0mitem\u001b[0m \u001b[0;32min\u001b[0m \u001b[0mitems\u001b[0m\u001b[0;34m)\u001b[0m\u001b[0;34m\u001b[0m\u001b[0;34m\u001b[0m\u001b[0m\n\u001b[0;32m--> 637\u001b[0;31m             \u001b[0m_futures_handler\u001b[0m\u001b[0;34m(\u001b[0m\u001b[0mfutures\u001b[0m\u001b[0;34m,\u001b[0m \u001b[0maccumulator\u001b[0m\u001b[0;34m,\u001b[0m \u001b[0mstatus\u001b[0m\u001b[0;34m,\u001b[0m \u001b[0munit\u001b[0m\u001b[0;34m,\u001b[0m \u001b[0mdesc\u001b[0m\u001b[0;34m,\u001b[0m \u001b[0madd_fn\u001b[0m\u001b[0;34m,\u001b[0m \u001b[0mtailtimeout\u001b[0m\u001b[0;34m)\u001b[0m\u001b[0;34m\u001b[0m\u001b[0;34m\u001b[0m\u001b[0m\n\u001b[0m\u001b[1;32m    638\u001b[0m     \u001b[0;32mreturn\u001b[0m \u001b[0maccumulator\u001b[0m\u001b[0;34m\u001b[0m\u001b[0;34m\u001b[0m\u001b[0m\n\u001b[1;32m    639\u001b[0m \u001b[0;34m\u001b[0m\u001b[0m\n",
      "\u001b[0;32m~/miniconda3/envs/coffeatest/lib/python3.8/site-packages/coffea/processor/executor.py\u001b[0m in \u001b[0;36m_futures_handler\u001b[0;34m(futures_set, output, status, unit, desc, add_fn, tailtimeout)\u001b[0m\n\u001b[1;32m    185\u001b[0m                 \u001b[0mfutures_set\u001b[0m\u001b[0;34m.\u001b[0m\u001b[0mdifference_update\u001b[0m\u001b[0;34m(\u001b[0m\u001b[0mfinished\u001b[0m\u001b[0;34m)\u001b[0m\u001b[0;34m\u001b[0m\u001b[0;34m\u001b[0m\u001b[0m\n\u001b[1;32m    186\u001b[0m                 \u001b[0;32mwhile\u001b[0m \u001b[0mfinished\u001b[0m\u001b[0;34m:\u001b[0m\u001b[0;34m\u001b[0m\u001b[0;34m\u001b[0m\u001b[0m\n\u001b[0;32m--> 187\u001b[0;31m                     \u001b[0madd_fn\u001b[0m\u001b[0;34m(\u001b[0m\u001b[0moutput\u001b[0m\u001b[0;34m,\u001b[0m \u001b[0mfinished\u001b[0m\u001b[0;34m.\u001b[0m\u001b[0mpop\u001b[0m\u001b[0;34m(\u001b[0m\u001b[0;34m)\u001b[0m\u001b[0;34m.\u001b[0m\u001b[0mresult\u001b[0m\u001b[0;34m(\u001b[0m\u001b[0;34m)\u001b[0m\u001b[0;34m)\u001b[0m\u001b[0;34m\u001b[0m\u001b[0;34m\u001b[0m\u001b[0m\n\u001b[0m\u001b[1;32m    188\u001b[0m                     \u001b[0mpbar\u001b[0m\u001b[0;34m.\u001b[0m\u001b[0mupdate\u001b[0m\u001b[0;34m(\u001b[0m\u001b[0;36m1\u001b[0m\u001b[0;34m)\u001b[0m\u001b[0;34m\u001b[0m\u001b[0;34m\u001b[0m\u001b[0m\n\u001b[1;32m    189\u001b[0m                     \u001b[0mlast_job\u001b[0m \u001b[0;34m=\u001b[0m \u001b[0mtime\u001b[0m\u001b[0;34m.\u001b[0m\u001b[0mtime\u001b[0m\u001b[0;34m(\u001b[0m\u001b[0;34m)\u001b[0m\u001b[0;34m\u001b[0m\u001b[0;34m\u001b[0m\u001b[0m\n",
      "\u001b[0;32m~/miniconda3/envs/coffeatest/lib/python3.8/concurrent/futures/_base.py\u001b[0m in \u001b[0;36mresult\u001b[0;34m(self, timeout)\u001b[0m\n\u001b[1;32m    430\u001b[0m                 \u001b[0;32mraise\u001b[0m \u001b[0mCancelledError\u001b[0m\u001b[0;34m(\u001b[0m\u001b[0;34m)\u001b[0m\u001b[0;34m\u001b[0m\u001b[0;34m\u001b[0m\u001b[0m\n\u001b[1;32m    431\u001b[0m             \u001b[0;32melif\u001b[0m \u001b[0mself\u001b[0m\u001b[0;34m.\u001b[0m\u001b[0m_state\u001b[0m \u001b[0;34m==\u001b[0m \u001b[0mFINISHED\u001b[0m\u001b[0;34m:\u001b[0m\u001b[0;34m\u001b[0m\u001b[0;34m\u001b[0m\u001b[0m\n\u001b[0;32m--> 432\u001b[0;31m                 \u001b[0;32mreturn\u001b[0m \u001b[0mself\u001b[0m\u001b[0;34m.\u001b[0m\u001b[0m__get_result\u001b[0m\u001b[0;34m(\u001b[0m\u001b[0;34m)\u001b[0m\u001b[0;34m\u001b[0m\u001b[0;34m\u001b[0m\u001b[0m\n\u001b[0m\u001b[1;32m    433\u001b[0m \u001b[0;34m\u001b[0m\u001b[0m\n\u001b[1;32m    434\u001b[0m             \u001b[0mself\u001b[0m\u001b[0;34m.\u001b[0m\u001b[0m_condition\u001b[0m\u001b[0;34m.\u001b[0m\u001b[0mwait\u001b[0m\u001b[0;34m(\u001b[0m\u001b[0mtimeout\u001b[0m\u001b[0;34m)\u001b[0m\u001b[0;34m\u001b[0m\u001b[0;34m\u001b[0m\u001b[0m\n",
      "\u001b[0;32m~/miniconda3/envs/coffeatest/lib/python3.8/concurrent/futures/_base.py\u001b[0m in \u001b[0;36m__get_result\u001b[0;34m(self)\u001b[0m\n\u001b[1;32m    386\u001b[0m     \u001b[0;32mdef\u001b[0m \u001b[0m__get_result\u001b[0m\u001b[0;34m(\u001b[0m\u001b[0mself\u001b[0m\u001b[0;34m)\u001b[0m\u001b[0;34m:\u001b[0m\u001b[0;34m\u001b[0m\u001b[0;34m\u001b[0m\u001b[0m\n\u001b[1;32m    387\u001b[0m         \u001b[0;32mif\u001b[0m \u001b[0mself\u001b[0m\u001b[0;34m.\u001b[0m\u001b[0m_exception\u001b[0m\u001b[0;34m:\u001b[0m\u001b[0;34m\u001b[0m\u001b[0;34m\u001b[0m\u001b[0m\n\u001b[0;32m--> 388\u001b[0;31m             \u001b[0;32mraise\u001b[0m \u001b[0mself\u001b[0m\u001b[0;34m.\u001b[0m\u001b[0m_exception\u001b[0m\u001b[0;34m\u001b[0m\u001b[0;34m\u001b[0m\u001b[0m\n\u001b[0m\u001b[1;32m    389\u001b[0m         \u001b[0;32melse\u001b[0m\u001b[0;34m:\u001b[0m\u001b[0;34m\u001b[0m\u001b[0;34m\u001b[0m\u001b[0m\n\u001b[1;32m    390\u001b[0m             \u001b[0;32mreturn\u001b[0m \u001b[0mself\u001b[0m\u001b[0;34m.\u001b[0m\u001b[0m_result\u001b[0m\u001b[0;34m\u001b[0m\u001b[0;34m\u001b[0m\u001b[0m\n",
      "\u001b[0;32m~/miniconda3/envs/coffeatest/lib/python3.8/concurrent/futures/process.py\u001b[0m in \u001b[0;36m_process_worker\u001b[0;34m()\u001b[0m\n\u001b[1;32m    237\u001b[0m             \u001b[0;32mreturn\u001b[0m\u001b[0;34m\u001b[0m\u001b[0;34m\u001b[0m\u001b[0m\n\u001b[1;32m    238\u001b[0m         \u001b[0;32mtry\u001b[0m\u001b[0;34m:\u001b[0m\u001b[0;34m\u001b[0m\u001b[0;34m\u001b[0m\u001b[0m\n\u001b[0;32m--> 239\u001b[0;31m             \u001b[0mr\u001b[0m \u001b[0;34m=\u001b[0m \u001b[0mcall_item\u001b[0m\u001b[0;34m.\u001b[0m\u001b[0mfn\u001b[0m\u001b[0;34m(\u001b[0m\u001b[0;34m*\u001b[0m\u001b[0mcall_item\u001b[0m\u001b[0;34m.\u001b[0m\u001b[0margs\u001b[0m\u001b[0;34m,\u001b[0m \u001b[0;34m**\u001b[0m\u001b[0mcall_item\u001b[0m\u001b[0;34m.\u001b[0m\u001b[0mkwargs\u001b[0m\u001b[0;34m)\u001b[0m\u001b[0;34m\u001b[0m\u001b[0;34m\u001b[0m\u001b[0m\n\u001b[0m\u001b[1;32m    240\u001b[0m         \u001b[0;32mexcept\u001b[0m \u001b[0mBaseException\u001b[0m \u001b[0;32mas\u001b[0m \u001b[0me\u001b[0m\u001b[0;34m:\u001b[0m\u001b[0;34m\u001b[0m\u001b[0;34m\u001b[0m\u001b[0m\n\u001b[1;32m    241\u001b[0m             \u001b[0mexc\u001b[0m \u001b[0;34m=\u001b[0m \u001b[0m_ExceptionWithTraceback\u001b[0m\u001b[0;34m(\u001b[0m\u001b[0me\u001b[0m\u001b[0;34m,\u001b[0m \u001b[0me\u001b[0m\u001b[0;34m.\u001b[0m\u001b[0m__traceback__\u001b[0m\u001b[0;34m)\u001b[0m\u001b[0;34m\u001b[0m\u001b[0;34m\u001b[0m\u001b[0m\n",
      "\u001b[0;32m~/miniconda3/envs/coffeatest/lib/python3.8/site-packages/coffea/processor/executor.py\u001b[0m in \u001b[0;36m__call__\u001b[0;34m()\u001b[0m\n\u001b[1;32m    127\u001b[0m     \u001b[0;31m# no @wraps due to pickle\u001b[0m\u001b[0;34m\u001b[0m\u001b[0;34m\u001b[0m\u001b[0;34m\u001b[0m\u001b[0m\n\u001b[1;32m    128\u001b[0m     \u001b[0;32mdef\u001b[0m \u001b[0m__call__\u001b[0m\u001b[0;34m(\u001b[0m\u001b[0mself\u001b[0m\u001b[0;34m,\u001b[0m \u001b[0;34m*\u001b[0m\u001b[0margs\u001b[0m\u001b[0;34m,\u001b[0m \u001b[0;34m**\u001b[0m\u001b[0mkwargs\u001b[0m\u001b[0;34m)\u001b[0m\u001b[0;34m:\u001b[0m\u001b[0;34m\u001b[0m\u001b[0;34m\u001b[0m\u001b[0m\n\u001b[0;32m--> 129\u001b[0;31m         \u001b[0mout\u001b[0m \u001b[0;34m=\u001b[0m \u001b[0mself\u001b[0m\u001b[0;34m.\u001b[0m\u001b[0mfunction\u001b[0m\u001b[0;34m(\u001b[0m\u001b[0;34m*\u001b[0m\u001b[0margs\u001b[0m\u001b[0;34m,\u001b[0m \u001b[0;34m**\u001b[0m\u001b[0mkwargs\u001b[0m\u001b[0;34m)\u001b[0m\u001b[0;34m\u001b[0m\u001b[0;34m\u001b[0m\u001b[0m\n\u001b[0m\u001b[1;32m    130\u001b[0m         \u001b[0;32mreturn\u001b[0m \u001b[0mlz4f\u001b[0m\u001b[0;34m.\u001b[0m\u001b[0mcompress\u001b[0m\u001b[0;34m(\u001b[0m\u001b[0mpickle\u001b[0m\u001b[0;34m.\u001b[0m\u001b[0mdumps\u001b[0m\u001b[0;34m(\u001b[0m\u001b[0mout\u001b[0m\u001b[0;34m,\u001b[0m \u001b[0mprotocol\u001b[0m\u001b[0;34m=\u001b[0m\u001b[0m_PICKLE_PROTOCOL\u001b[0m\u001b[0;34m)\u001b[0m\u001b[0;34m,\u001b[0m \u001b[0mcompression_level\u001b[0m\u001b[0;34m=\u001b[0m\u001b[0mself\u001b[0m\u001b[0;34m.\u001b[0m\u001b[0mlevel\u001b[0m\u001b[0;34m)\u001b[0m\u001b[0;34m\u001b[0m\u001b[0;34m\u001b[0m\u001b[0m\n\u001b[1;32m    131\u001b[0m \u001b[0;34m\u001b[0m\u001b[0m\n",
      "\u001b[0;32m~/miniconda3/envs/coffeatest/lib/python3.8/site-packages/coffea/processor/executor.py\u001b[0m in \u001b[0;36m_work_function\u001b[0;34m()\u001b[0m\n\u001b[1;32m    944\u001b[0m         \u001b[0;32mexcept\u001b[0m \u001b[0mException\u001b[0m \u001b[0;32mas\u001b[0m \u001b[0me\u001b[0m\u001b[0;34m:\u001b[0m\u001b[0;34m\u001b[0m\u001b[0;34m\u001b[0m\u001b[0m\n\u001b[1;32m    945\u001b[0m             \u001b[0;32mif\u001b[0m \u001b[0mretries\u001b[0m \u001b[0;34m==\u001b[0m \u001b[0mretry_count\u001b[0m\u001b[0;34m:\u001b[0m\u001b[0;34m\u001b[0m\u001b[0;34m\u001b[0m\u001b[0m\n\u001b[0;32m--> 946\u001b[0;31m                 \u001b[0;32mraise\u001b[0m \u001b[0me\u001b[0m\u001b[0;34m\u001b[0m\u001b[0;34m\u001b[0m\u001b[0m\n\u001b[0m\u001b[1;32m    947\u001b[0m             \u001b[0mw_str\u001b[0m \u001b[0;34m=\u001b[0m \u001b[0;34m'Attempt %d of %d. Will retry.'\u001b[0m \u001b[0;34m%\u001b[0m \u001b[0;34m(\u001b[0m\u001b[0mretry_count\u001b[0m \u001b[0;34m+\u001b[0m \u001b[0;36m1\u001b[0m\u001b[0;34m,\u001b[0m \u001b[0mretries\u001b[0m \u001b[0;34m+\u001b[0m \u001b[0;36m1\u001b[0m\u001b[0;34m)\u001b[0m\u001b[0;34m\u001b[0m\u001b[0;34m\u001b[0m\u001b[0m\n\u001b[1;32m    948\u001b[0m             \u001b[0mwarnings\u001b[0m\u001b[0;34m.\u001b[0m\u001b[0mwarn\u001b[0m\u001b[0;34m(\u001b[0m\u001b[0mw_str\u001b[0m\u001b[0;34m)\u001b[0m\u001b[0;34m\u001b[0m\u001b[0;34m\u001b[0m\u001b[0m\n",
      "\u001b[0;32m~/miniconda3/envs/coffeatest/lib/python3.8/site-packages/coffea/processor/executor.py\u001b[0m in \u001b[0;36m_work_function\u001b[0;34m()\u001b[0m\n\u001b[1;32m    897\u001b[0m                     \u001b[0mout\u001b[0m \u001b[0;34m=\u001b[0m \u001b[0mprocessor_instance\u001b[0m\u001b[0;34m.\u001b[0m\u001b[0mprocess\u001b[0m\u001b[0;34m(\u001b[0m\u001b[0mevents\u001b[0m\u001b[0;34m)\u001b[0m\u001b[0;34m\u001b[0m\u001b[0;34m\u001b[0m\u001b[0m\n\u001b[1;32m    898\u001b[0m                 \u001b[0;32mexcept\u001b[0m \u001b[0mException\u001b[0m \u001b[0;32mas\u001b[0m \u001b[0me\u001b[0m\u001b[0;34m:\u001b[0m\u001b[0;34m\u001b[0m\u001b[0;34m\u001b[0m\u001b[0m\n\u001b[0;32m--> 899\u001b[0;31m                     \u001b[0;32mraise\u001b[0m \u001b[0mException\u001b[0m\u001b[0;34m(\u001b[0m\u001b[0;34mf\"Failed processing file: {item.filename} ({item.entrystart}-{item.entrystop})\"\u001b[0m\u001b[0;34m)\u001b[0m \u001b[0;32mfrom\u001b[0m \u001b[0me\u001b[0m\u001b[0;34m\u001b[0m\u001b[0;34m\u001b[0m\u001b[0m\n\u001b[0m\u001b[1;32m    900\u001b[0m                 \u001b[0;32mif\u001b[0m \u001b[0mout\u001b[0m \u001b[0;32mis\u001b[0m \u001b[0;32mNone\u001b[0m\u001b[0;34m:\u001b[0m\u001b[0;34m\u001b[0m\u001b[0;34m\u001b[0m\u001b[0m\n\u001b[1;32m    901\u001b[0m                     \u001b[0;32mraise\u001b[0m \u001b[0mValueError\u001b[0m\u001b[0;34m(\u001b[0m\u001b[0;34m\"Output of process() should not be None. Make sure your processor's process() function returns an accumulator.\"\u001b[0m\u001b[0;34m)\u001b[0m\u001b[0;34m\u001b[0m\u001b[0;34m\u001b[0m\u001b[0m\n",
      "\u001b[0;31mException\u001b[0m: Failed processing file: /hadoop/cms/store/user/dspitzba/nanoAOD/ttw_samples/topW_v0.2.3/ProjectMetis_TTWminusJetsToLNuEWK_5f_NLO_v2_RunIIAutumn18_NANO_v4/nanoSkim_1.root (0-58724)"
     ]
    }
   ],
   "source": [
    "# an equivalent code can be run with ipython -i trilep_ttZ_analysis.py within the processor directory\n",
    "\n",
    "from Tools.samples import fileset_2018, fileset_2018_small\n",
    "\n",
    "overwrite = True\n",
    "year      = 2018\n",
    "small     = True\n",
    "\n",
    "# load the config and the cache\n",
    "cfg = loadConfig()\n",
    "\n",
    "cacheName = 'trilep_ttZ_analysis'\n",
    "if small: cacheName += '_small'\n",
    "\n",
    "cache = dir_archive(os.path.join(os.path.expandvars(cfg['caches']['base']), cacheName), serialized=True)\n",
    "\n",
    "fileset = {\n",
    "    'topW_v3': fileset_2018['topW_v3'],\n",
    "    'topW_EFT_cp8': fileset_2018['topW_EFT_cp8'],\n",
    "    'topW_EFT_mix': fileset_2018['topW_EFT_mix'],\n",
    "    'TTW': fileset_2018['TTW'],\n",
    "    'TTZ': fileset_2018['TTZ'],\n",
    "    'TTH': fileset_2018['TTH'],\n",
    "    'diboson': fileset_2018['diboson'],\n",
    "    'ttbar': fileset_2018['top2l'],\n",
    "    'DY': fileset_2018['DY'],\n",
    "}\n",
    "\n",
    "fileset = make_small(fileset, small, n_max=1)  # run over just one file each if small is set to true\n",
    "\n",
    "# add all processes to output so that the cutflow doesn't fail\n",
    "add_processes_to_output(fileset, desired_output)\n",
    "\n",
    "# add some histograms that we defined in the processor\n",
    "# everything else is taken the default_accumulators.py\n",
    "from processor.default_accumulators import mass_axis, dataset_axis, multiplicity_axis\n",
    "desired_output.update({\n",
    "    \"dilep_mass\": hist.Hist(\"Counts\", dataset_axis, mass_axis),\n",
    "    \"N_SFOS\": hist.Hist(\"Counts\", dataset_axis, multiplicity_axis),\n",
    "    \"N_OSE\": hist.Hist(\"Counts\", dataset_axis, multiplicity_axis),\n",
    "    \"N_OSM\": hist.Hist(\"Counts\", dataset_axis, multiplicity_axis),\n",
    "})\n",
    "\n",
    "histograms = sorted(list(desired_output.keys()))\n",
    "\n",
    "exe_args = {\n",
    "    'workers': 16,\n",
    "    'function_args': {'flatten': False},\n",
    "    \"schema\": NanoAODSchema,\n",
    "}\n",
    "exe = processor.futures_executor\n",
    "\n",
    "if not overwrite:\n",
    "    cache.load()\n",
    "\n",
    "if cfg == cache.get('cfg') and histograms == cache.get('histograms') and cache.get('simple_output'):\n",
    "    output = cache.get('simple_output')\n",
    "\n",
    "else:\n",
    "    print (\"I'm running now\")\n",
    "    \n",
    "    output = processor.run_uproot_job(\n",
    "        fileset,\n",
    "        \"Events\",\n",
    "        trilep_ttZ_analysis(year=year, variations=variations, accumulator=desired_output),\n",
    "        exe,\n",
    "        exe_args,\n",
    "        chunksize=250000,\n",
    "    )\n",
    "    \n",
    "    cache['fileset']        = fileset\n",
    "    cache['cfg']            = cfg\n",
    "    cache['histograms']     = histograms\n",
    "    cache['simple_output']  = output\n",
    "    cache.dump()"
   ]
  },
  {
   "cell_type": "code",
   "execution_count": null,
   "id": "honest-destruction",
   "metadata": {
    "scrolled": true
   },
   "outputs": [],
   "source": [
    "# we can just take the process list from the fileset to avoid any confusions\n",
    "processes = list(fileset.keys())\n",
    "\n",
    "processes.remove('topW_EFT_cp8')\n",
    "processes.remove('topW_EFT_mix')\n",
    "\n",
    "# the following list is directly taken from Tools/ttZ_selection.py\n",
    "lines = ['entry']\n",
    "lines += [\n",
    "            'filter',\n",
    "            'lepveto',\n",
    "            'trilep',\n",
    "            'p_T(lep0)>25',\n",
    "            'p_T(lep1)>20',\n",
    "            'trigger',\n",
    "            'offZ',\n",
    "            'MET>50',\n",
    "            'N_jet>2',\n",
    "            'N_central>1',\n",
    "            'N_btag>0',\n",
    "            'N_fwd>0',\n",
    "        ]\n",
    "\n",
    "lines += [\n",
    "            'SFOSveto',\n",
    "        ]\n",
    "\n",
    "from Tools.helpers import getCutFlowTable\n",
    "df = getCutFlowTable(output, processes=processes, lines=lines, significantFigures=4, signal='topW_v3')\n",
    "df"
   ]
  },
  {
   "cell_type": "code",
   "execution_count": null,
   "id": "removed-gnome",
   "metadata": {
    "scrolled": false
   },
   "outputs": [],
   "source": [
    "df = getCutFlowTable(output, processes=processes, lines=lines, significantFigures=4, absolute=False, signal='topW_v3')\n",
    "df"
   ]
  },
  {
   "cell_type": "code",
   "execution_count": null,
   "id": "smaller-convert",
   "metadata": {
    "scrolled": true
   },
   "outputs": [],
   "source": [
    "import warnings\n",
    "warnings.filterwarnings('ignore')\n",
    "\n",
    "import matplotlib.pyplot as plt\n",
    "import mplhep as hep\n",
    "plt.style.use(hep.style.CMS)\n",
    "\n",
    "from plots.helpers import makePlot\n",
    "\n",
    "# defining some new axes for rebinning.\n",
    "N_bins = hist.Bin('multiplicity', r'$N$', 10, -0.5, 9.5)\n",
    "N_bins_red = hist.Bin('multiplicity', r'$N$', 5, -0.5, 4.5)\n",
    "mass_bins = hist.Bin('mass', r'$M\\ (GeV)$', 20, 0, 200)\n",
    "pt_bins = hist.Bin('pt', r'$p_{T}\\ (GeV)$', 30, 0, 300)\n",
    "pt_bins_coarse = hist.Bin('pt', r'$p_{T}\\ (GeV)$', 10, 0, 300)\n",
    "eta_bins = hist.Bin('eta', r'$\\eta $', 25, -5.0, 5.0)\n",
    "\n",
    "my_labels = {\n",
    "    'topW_v3': 'top-W scat.',\n",
    "    'topW_EFT_cp8': 'EFT, cp8',\n",
    "    'topW_EFT_mix': 'EFT mix',\n",
    "    'TTZ': r'$t\\bar{t}Z$',\n",
    "    'TTW': r'$t\\bar{t}W$',\n",
    "    'TTH': r'$t\\bar{t}H$',\n",
    "    'diboson': 'VV/VVV',\n",
    "    'ttbar': r'$t\\bar{t}$',\n",
    "    'DY': 'Drell-Yan',\n",
    "}\n",
    "\n",
    "my_colors = {\n",
    "    'topW_v3': '#FF595E',\n",
    "    'topW_EFT_cp8': '#000000',\n",
    "    'topW_EFT_mix': '#0F7173',\n",
    "    'TTZ': '#FFCA3A',\n",
    "    'TTW': '#8AC926',\n",
    "    'TTH': '#34623F',\n",
    "    'diboson': '#525B76',\n",
    "    'ttbar': '#1982C4',\n",
    "    'DY': '#6A4C93',}"
   ]
  },
  {
   "cell_type": "code",
   "execution_count": null,
   "id": "nervous-dutch",
   "metadata": {
    "scrolled": true
   },
   "outputs": [],
   "source": [
    "makePlot(output, 'lead_lep', 'pt',\n",
    "         data=[],\n",
    "         bins=pt_bins_coarse, log=True, normalize=False, axis_label=r'$p_{T}$ (lead lep) (GeV)',\n",
    "         new_colors=my_colors, new_labels=my_labels,\n",
    "         order=['diboson', 'TTW', 'TTH', 'TTZ', 'ttbar'],\n",
    "         signals=['topW_v3', 'topW_EFT_cp8', 'topW_EFT_mix'],\n",
    "        )"
   ]
  },
  {
   "cell_type": "code",
   "execution_count": null,
   "id": "intellectual-melbourne",
   "metadata": {
    "scrolled": true
   },
   "outputs": [],
   "source": [
    "makePlot(output, 'lead_lep', 'pt',\n",
    "         data=[],\n",
    "         bins=pt_bins_coarse, log=True, normalize=False, axis_label=r'$p_{T}$ (lead lep) (GeV)',\n",
    "         new_colors=my_colors, new_labels=my_labels,\n",
    "         order=['topW_v3', 'diboson', 'TTW', 'TTH', 'TTZ', 'ttbar'],\n",
    "         signals=[],\n",
    "         omit=['topW_EFT_cp8', 'topW_EFT_mix'],\n",
    "        )"
   ]
  },
  {
   "cell_type": "code",
   "execution_count": null,
   "id": "violent-seven",
   "metadata": {
    "scrolled": true
   },
   "outputs": [],
   "source": [
    "makePlot(output, 'lead_lep', 'pt',\n",
    "         data=[],\n",
    "         shape=True,\n",
    "         bins=pt_bins_coarse, log=True, normalize=False, axis_label=r'$p_{T}$ (lead lep) (GeV)',\n",
    "         new_colors=my_colors, new_labels=my_labels,\n",
    "         omit=['topW_EFT_cp8', 'topW_EFT_mix'],\n",
    "        )"
   ]
  },
  {
   "cell_type": "code",
   "execution_count": null,
   "id": "utility-weight",
   "metadata": {
    "scrolled": true
   },
   "outputs": [],
   "source": [
    "makePlot(output, 'lead_lep', 'pt',\n",
    "         data=[],\n",
    "         shape=True,\n",
    "         bins=pt_bins_coarse, log=True, normalize=False, axis_label=r'$p_{T}$ (lead lep) (GeV)',\n",
    "         new_colors=my_colors, new_labels=my_labels,\n",
    "         omit=['DY', 'ttbar', 'TTZ', 'TTH', 'diboson'],\n",
    "        )"
   ]
  },
  {
   "cell_type": "code",
   "execution_count": null,
   "id": "immune-debut",
   "metadata": {
    "scrolled": true
   },
   "outputs": [],
   "source": [
    "makePlot(output, 'dilep_mass', 'mass',\n",
    "         bins=mass_bins, log=False, normalize=False, axis_label=r'$M_{\\ell\\ell}$ (GeV)',\n",
    "         new_colors=my_colors, new_labels=my_labels,\n",
    "         order=['topW_v3', 'diboson',  'TTW', 'TTH', 'TTZ', 'ttbar', 'DY'],\n",
    "         omit=['topW_EFT_cp8', 'topW_EFT_mix'],\n",
    "        )\n",
    "makePlot(output, 'dilep_mass', 'mass',\n",
    "         shape=True,\n",
    "         bins=mass_bins, log=False, normalize=False, axis_label=r'$M_{\\ell\\ell}$ (GeV)',\n",
    "         new_colors=my_colors, new_labels=my_labels,\n",
    "         ymax=0.7,\n",
    "         omit=['topW_EFT_cp8', 'topW_EFT_mix'],\n",
    "        )"
   ]
  },
  {
   "cell_type": "code",
   "execution_count": null,
   "id": "preceding-fantasy",
   "metadata": {
    "scrolled": false
   },
   "outputs": [],
   "source": [
    "makePlot(output, 'N_SFOS', 'multiplicity', \n",
    "         data=[],\n",
    "         bins=hist.Bin('multiplicity', r'$N$', 2, -0.5, 1.5), log=True, normalize=False, axis_label='Same Flavour Opposite Sign',\n",
    "         new_colors=my_colors, new_labels=my_labels,\n",
    "         order=['topW_v3', 'diboson', 'TTW', 'TTH', 'TTZ', 'ttbar'],\n",
    "         signals=[],\n",
    "         omit=['topW_EFT_cp8', 'topW_EFT_mix'],\n",
    "        )"
   ]
  },
  {
   "cell_type": "markdown",
   "id": "restricted-friend",
   "metadata": {},
   "source": [
    "The ttZ process shouldn't be present in the N=0 bin because the Z decay will always produce a SFOS pair. ttWq should be in the N=0 bin, as well as the N=1 bin"
   ]
  },
  {
   "cell_type": "code",
   "execution_count": null,
   "id": "numeric-savannah",
   "metadata": {
    "scrolled": true
   },
   "outputs": [],
   "source": [
    "#output[\"N_SFOS\"].values()"
   ]
  },
  {
   "cell_type": "code",
   "execution_count": null,
   "id": "boring-lobby",
   "metadata": {
    "scrolled": true
   },
   "outputs": [],
   "source": [
    "'''makePlot(output, 'N_OSE', 'multiplicity',\n",
    "         data=[],\n",
    "         bins=hist.Bin('multiplicity', r'$N$', 2, -0.5, 1.5), log=True, normalize=False, axis_label='Same Flavour Opposite Sign',\n",
    "         new_colors=my_colors, new_labels=my_labels,\n",
    "         order=['topW_v3', 'diboson', 'TTW', 'TTH', 'TTZ', 'ttbar'],\n",
    "         signals=[],\n",
    "         omit=['topW_EFT_cp8', 'topW_EFT_mix'],\n",
    "        )'''"
   ]
  },
  {
   "cell_type": "code",
   "execution_count": 15,
   "id": "loved-heavy",
   "metadata": {
    "scrolled": true
   },
   "outputs": [
    {
     "data": {
      "text/plain": [
       "\"makePlot(output, 'N_OSM', 'multiplicity',\\n         data=[],\\n         bins=hist.Bin('multiplicity', r'$N$', 2, -0.5, 1.5), log=True, normalize=False, axis_label='Same Flavour Opposite Sign',\\n         new_colors=my_colors, new_labels=my_labels,\\n         order=['topW_v3', 'diboson', 'TTW', 'TTH', 'TTZ', 'ttbar'],\\n         signals=[],\\n         omit=['topW_EFT_cp8', 'topW_EFT_mix'],\\n        )\""
      ]
     },
     "execution_count": 15,
     "metadata": {},
     "output_type": "execute_result"
    }
   ],
   "source": [
    "'''makePlot(output, 'N_OSM', 'multiplicity',\n",
    "         data=[],\n",
    "         bins=hist.Bin('multiplicity', r'$N$', 2, -0.5, 1.5), log=True, normalize=False, axis_label='Same Flavour Opposite Sign',\n",
    "         new_colors=my_colors, new_labels=my_labels,\n",
    "         order=['topW_v3', 'diboson', 'TTW', 'TTH', 'TTZ', 'ttbar'],\n",
    "         signals=[],\n",
    "         omit=['topW_EFT_cp8', 'topW_EFT_mix'],\n",
    "        )'''"
   ]
  },
  {
   "cell_type": "markdown",
   "id": "major-anniversary",
   "metadata": {},
   "source": [
    "Try Loading in a single file"
   ]
  },
  {
   "cell_type": "code",
   "execution_count": 53,
   "id": "instructional-gross",
   "metadata": {
    "scrolled": true
   },
   "outputs": [],
   "source": [
    "from coffea.nanoevents import NanoEventsFactory, NanoAODSchema\n",
    "from coffea.analysis_tools import Weights, PackedSelection\n",
    "\n",
    "import awkward as ak\n",
    "import numpy as np\n",
    "\n",
    "from Tools.objects import *\n",
    "from Tools.basic_objects import *\n",
    "from Tools.cutflow import *\n",
    "from Tools.config_helpers import loadConfig, make_small\n",
    "from Tools.triggers import *\n",
    "from Tools.btag_scalefactors import *\n",
    "#from Tools.lepton_scalefactors import *\n",
    "from Tools.selections import Selection\n",
    "\n",
    "# the below command will change to .from_root in coffea v0.7.0\n",
    "#events = NanoEventsFactory.from_root('/hadoop/cms/store/user/dspitzba/nanoAOD/ttw_samples/topW_v0.2.3/ProjectMetis_TTWJetsToLNuEWK_5f_NLO_RunIIAutumn18_NANO_v2/nanoSkim_1.root', schemaclass=NanoAODSchema).events()\n",
    "events = NanoEventsFactory.from_root('/hadoop/cms/store/user/dspitzba/nanoAOD/ttw_samples/topW_v0.2.3/TTZToLLNuNu_M-10_TuneCP5_13TeV-amcatnlo-pythia8_RunIIAutumn18NanoAODv7-Nano02Apr2020_102X_upgrade2018_realistic_v21_ext1-v1/nanoSkim_1.root', schemaclass=NanoAODSchema).events()"
   ]
  },
  {
   "cell_type": "code",
   "execution_count": 54,
   "id": "sunset-breath",
   "metadata": {
    "scrolled": true
   },
   "outputs": [],
   "source": [
    "muon     = Collections(events, \"Muon\", \"vetoTTH\").get()\n",
    "electron     = Collections(events, \"Electron\", \"vetoTTH\").get()"
   ]
  },
  {
   "cell_type": "code",
   "execution_count": 55,
   "id": "north-germany",
   "metadata": {
    "scrolled": true
   },
   "outputs": [],
   "source": [
    "dimuon = choose(muon,2)\n",
    "OS_dimuon = dimuon[(dimuon['0'].charge*dimuon['1'].charge < 0)]\n",
    "\n",
    "dielectron = choose(electron)\n",
    "OS_dielectron = dielectron[(dielectron['0'].charge*dielectron['1'].charge < 0)]"
   ]
  },
  {
   "cell_type": "code",
   "execution_count": 56,
   "id": "saved-brush",
   "metadata": {
    "scrolled": true
   },
   "outputs": [
    {
     "name": "stdout",
     "output_type": "stream",
     "text": [
      "yay\n"
     ]
    }
   ],
   "source": [
    "e=ak.num(OS_dielectron)\n",
    "\n",
    "m = ak.num(OS_dimuon)\n",
    "\n",
    "if ak.any(m) ==1:\n",
    "    print('yay')"
   ]
  },
  {
   "cell_type": "code",
   "execution_count": 57,
   "id": "academic-budget",
   "metadata": {
    "scrolled": true
   },
   "outputs": [
    {
     "name": "stdout",
     "output_type": "stream",
     "text": [
      "[[], [], [], [], [], [], ... t: 86.1, charge: 0, '0': Electron, '1': Electron}], []]\n"
     ]
    }
   ],
   "source": [
    "print(OS_dielectron)"
   ]
  },
  {
   "cell_type": "code",
   "execution_count": 58,
   "id": "ordered-albany",
   "metadata": {
    "scrolled": true
   },
   "outputs": [
    {
     "name": "stdout",
     "output_type": "stream",
     "text": [
      "[[{x: 83.1, y: 158, z: -166, t: 260, charge: 0, ... '0': Electron, '1': Electron}]]\n"
     ]
    }
   ],
   "source": [
    "print(OS_dielectron[ak.num(electron)>=3])"
   ]
  },
  {
   "cell_type": "code",
   "execution_count": 59,
   "id": "excessive-premises",
   "metadata": {
    "scrolled": true
   },
   "outputs": [
    {
     "data": {
      "text/plain": [
       "<Array [0, 2, 0, 0, 2, 2, ... 0, 0, 0, 0, 2, 2] type='113761 * int64'>"
      ]
     },
     "execution_count": 59,
     "metadata": {},
     "output_type": "execute_result"
    }
   ],
   "source": [
    "lepton = (ak.num(electron)+ak.num(muon))>=3\n",
    "ak.num(OS_dielectron[(lepton)])"
   ]
  },
  {
   "cell_type": "code",
   "execution_count": 60,
   "id": "threaded-richmond",
   "metadata": {
    "scrolled": true
   },
   "outputs": [
    {
     "data": {
      "text/plain": [
       "<Array [1, 0, 2, 1, 0, 0, ... 1, 1, 1, 2, 0, 0] type='113761 * int64'>"
      ]
     },
     "execution_count": 60,
     "metadata": {},
     "output_type": "execute_result"
    }
   ],
   "source": [
    "ak.num(OS_dimuon[(lepton)])"
   ]
  },
  {
   "cell_type": "code",
   "execution_count": 61,
   "id": "associate-title",
   "metadata": {
    "scrolled": true
   },
   "outputs": [
    {
     "data": {
      "text/plain": [
       "<Array [1, 2, 2, 1, 2, 2, ... 1, 1, 1, 2, 2, 2] type='113761 * int64'>"
      ]
     },
     "execution_count": 61,
     "metadata": {},
     "output_type": "execute_result"
    }
   ],
   "source": [
    "x = ak.num(OS_dielectron[(lepton)])+ak.num(OS_dimuon[(lepton)])\n",
    "x"
   ]
  },
  {
   "cell_type": "code",
   "execution_count": 63,
   "id": "hairy-prairie",
   "metadata": {
    "scrolled": true
   },
   "outputs": [
    {
     "data": {
      "text/plain": [
       "(array([3.8280e+03, 4.8667e+04, 5.6787e+04, 8.4100e+02, 0.0000e+00,\n",
       "        3.5560e+03, 3.0000e+00, 7.7000e+01, 1.0000e+00, 1.0000e+00]),\n",
       " array([0. , 0.8, 1.6, 2.4, 3.2, 4. , 4.8, 5.6, 6.4, 7.2, 8. ]),\n",
       " <BarContainer object of 10 artists>)"
      ]
     },
     "execution_count": 63,
     "metadata": {},
     "output_type": "execute_result"
    },
    {
     "data": {
      "image/png": "[encoded data removed]",
      "text/plain": [
       "<Figure size 720x720 with 1 Axes>"
      ]
     },
     "metadata": {
      "needs_background": "light"
     },
     "output_type": "display_data"
    }
   ],
   "source": [
    "plt.hist(x)"
   ]
  },
  {
   "cell_type": "code",
   "execution_count": null,
   "id": "rough-store",
   "metadata": {
    "scrolled": true
   },
   "outputs": [],
   "source": []
  }
 ],
 "metadata": {
  "kernelspec": {
   "display_name": "Python 3",
   "language": "python",
   "name": "python3"
  },
  "language_info": {
   "codemirror_mode": {
    "name": "ipython",
    "version": 3
   },
   "file_extension": ".py",
   "mimetype": "text/x-python",
   "name": "python",
   "nbconvert_exporter": "python",
   "pygments_lexer": "ipython3",
   "version": "3.8.6"
  }
 },
 "nbformat": 4,
 "nbformat_minor": 5
}
